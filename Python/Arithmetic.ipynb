{
  "nbformat": 4,
  "nbformat_minor": 0,
  "metadata": {
    "colab": {
      "provenance": []
    },
    "kernelspec": {
      "name": "python3",
      "display_name": "Python 3"
    },
    "language_info": {
      "name": "python"
    }
  },
  "cells": [
    {
      "cell_type": "markdown",
      "source": [
        "# **Add, Sub, Mul, Div**"
      ],
      "metadata": {
        "id": "eWwlRXAJ828x"
      }
    },
    {
      "cell_type": "code",
      "execution_count": null,
      "metadata": {
        "id": "6NaaIKicrOk4",
        "colab": {
          "base_uri": "https://localhost:8080/"
        },
        "outputId": "c82e66b0-97ac-4494-8822-1db3edcb6f37"
      },
      "outputs": [
        {
          "output_type": "execute_result",
          "data": {
            "text/plain": [
              "9"
            ]
          },
          "metadata": {},
          "execution_count": 150
        }
      ],
      "source": [
        "4 + 5"
      ]
    },
    {
      "cell_type": "code",
      "source": [
        "4 + 1 + 5"
      ],
      "metadata": {
        "colab": {
          "base_uri": "https://localhost:8080/"
        },
        "id": "1XWtH_XV6jo9",
        "outputId": "7a84f0d8-c609-413a-e7e2-b48b4b6e6dab"
      },
      "execution_count": null,
      "outputs": [
        {
          "output_type": "execute_result",
          "data": {
            "text/plain": [
              "10"
            ]
          },
          "metadata": {},
          "execution_count": 151
        }
      ]
    },
    {
      "cell_type": "code",
      "source": [
        "5 + 3"
      ],
      "metadata": {
        "colab": {
          "base_uri": "https://localhost:8080/"
        },
        "id": "9XNcAqtc6uea",
        "outputId": "80793987-e345-45d9-fd26-e900ebb62dd4"
      },
      "execution_count": null,
      "outputs": [
        {
          "output_type": "execute_result",
          "data": {
            "text/plain": [
              "8"
            ]
          },
          "metadata": {},
          "execution_count": 152
        }
      ]
    },
    {
      "cell_type": "code",
      "source": [
        "3 * 3"
      ],
      "metadata": {
        "colab": {
          "base_uri": "https://localhost:8080/"
        },
        "id": "p4_GHBHD6vaC",
        "outputId": "0e246977-6ead-456f-dbf3-5b1b7fa74dd6"
      },
      "execution_count": null,
      "outputs": [
        {
          "output_type": "execute_result",
          "data": {
            "text/plain": [
              "9"
            ]
          },
          "metadata": {},
          "execution_count": 153
        }
      ]
    },
    {
      "cell_type": "code",
      "source": [
        "3 * 3 + 1 - 5"
      ],
      "metadata": {
        "colab": {
          "base_uri": "https://localhost:8080/"
        },
        "id": "Rjm4G9vu6-7d",
        "outputId": "c4d46f58-987f-4c22-a7b4-44ff57bb857b"
      },
      "execution_count": null,
      "outputs": [
        {
          "output_type": "execute_result",
          "data": {
            "text/plain": [
              "5"
            ]
          },
          "metadata": {},
          "execution_count": 154
        }
      ]
    },
    {
      "cell_type": "code",
      "source": [
        "3 / 4"
      ],
      "metadata": {
        "colab": {
          "base_uri": "https://localhost:8080/"
        },
        "id": "TGUsGUcH7c-r",
        "outputId": "bea83a06-29d1-4837-d8f1-e753e1e8c7a6"
      },
      "execution_count": null,
      "outputs": [
        {
          "output_type": "execute_result",
          "data": {
            "text/plain": [
              "0.75"
            ]
          },
          "metadata": {},
          "execution_count": 155
        }
      ]
    },
    {
      "cell_type": "code",
      "source": [
        "1 + 3 / 4"
      ],
      "metadata": {
        "colab": {
          "base_uri": "https://localhost:8080/"
        },
        "id": "d4Df94yI7lPS",
        "outputId": "1b9b34b1-6a36-4a89-d9f2-285df667636b"
      },
      "execution_count": null,
      "outputs": [
        {
          "output_type": "execute_result",
          "data": {
            "text/plain": [
              "1.75"
            ]
          },
          "metadata": {},
          "execution_count": 156
        }
      ]
    },
    {
      "cell_type": "code",
      "source": [
        "(1+3)/4"
      ],
      "metadata": {
        "colab": {
          "base_uri": "https://localhost:8080/"
        },
        "id": "5dOYEug4715E",
        "outputId": "f3f58e8c-d3e7-4e30-a201-59500b35ff27"
      },
      "execution_count": null,
      "outputs": [
        {
          "output_type": "execute_result",
          "data": {
            "text/plain": [
              "1.0"
            ]
          },
          "metadata": {},
          "execution_count": 157
        }
      ]
    },
    {
      "cell_type": "markdown",
      "source": [
        "**Exercise**"
      ],
      "metadata": {
        "id": "OV4sArk-8GOd"
      }
    },
    {
      "cell_type": "code",
      "source": [
        "# 1\n",
        "\n",
        "5 - ((2 / 4) * (3 / 5))"
      ],
      "metadata": {
        "colab": {
          "base_uri": "https://localhost:8080/"
        },
        "id": "7iIMeQrH8BBi",
        "outputId": "5bc2805a-1bca-4f85-c831-84f940d0d6f9"
      },
      "execution_count": null,
      "outputs": [
        {
          "output_type": "execute_result",
          "data": {
            "text/plain": [
              "4.7"
            ]
          },
          "metadata": {},
          "execution_count": 158
        }
      ]
    },
    {
      "cell_type": "code",
      "source": [
        "# 2\n",
        "\n",
        "(4 - 5) / (3 + 5 * 6)"
      ],
      "metadata": {
        "colab": {
          "base_uri": "https://localhost:8080/"
        },
        "id": "qCJbqXeY8Ur3",
        "outputId": "1c230793-0b0e-4148-981f-4e4452e45668"
      },
      "execution_count": null,
      "outputs": [
        {
          "output_type": "execute_result",
          "data": {
            "text/plain": [
              "-0.030303030303030304"
            ]
          },
          "metadata": {},
          "execution_count": 159
        }
      ]
    },
    {
      "cell_type": "markdown",
      "source": [
        "**Variable**"
      ],
      "metadata": {
        "id": "XFKk8MhD9BBo"
      }
    },
    {
      "cell_type": "code",
      "source": [
        "x = 7\n",
        "x"
      ],
      "metadata": {
        "colab": {
          "base_uri": "https://localhost:8080/"
        },
        "id": "mDawL_Ci8Zct",
        "outputId": "a3ff39ba-a9f4-440d-9e6e-860bc17f5fcd"
      },
      "execution_count": null,
      "outputs": [
        {
          "output_type": "execute_result",
          "data": {
            "text/plain": [
              "7"
            ]
          },
          "metadata": {},
          "execution_count": 160
        }
      ]
    },
    {
      "cell_type": "code",
      "source": [
        "x - 2"
      ],
      "metadata": {
        "colab": {
          "base_uri": "https://localhost:8080/"
        },
        "id": "aZBG4dcD9lTe",
        "outputId": "28560e0f-e12f-4f3b-a76f-475b7517de7e"
      },
      "execution_count": null,
      "outputs": [
        {
          "output_type": "execute_result",
          "data": {
            "text/plain": [
              "5"
            ]
          },
          "metadata": {},
          "execution_count": 161
        }
      ]
    },
    {
      "cell_type": "code",
      "source": [
        "x = 10\n",
        "x"
      ],
      "metadata": {
        "colab": {
          "base_uri": "https://localhost:8080/"
        },
        "id": "pACjlLFL9oql",
        "outputId": "34fe60f2-6059-41af-99ce-61020371f563"
      },
      "execution_count": null,
      "outputs": [
        {
          "output_type": "execute_result",
          "data": {
            "text/plain": [
              "10"
            ]
          },
          "metadata": {},
          "execution_count": 162
        }
      ]
    },
    {
      "cell_type": "code",
      "source": [
        "x -= 2 * 5\n",
        "x"
      ],
      "metadata": {
        "colab": {
          "base_uri": "https://localhost:8080/"
        },
        "id": "I6k_-nKS9tEG",
        "outputId": "39249ac8-94df-4b17-955b-e40a621a37ca"
      },
      "execution_count": null,
      "outputs": [
        {
          "output_type": "execute_result",
          "data": {
            "text/plain": [
              "0"
            ]
          },
          "metadata": {},
          "execution_count": 163
        }
      ]
    },
    {
      "cell_type": "code",
      "source": [
        "x = 10\n",
        "y = 20\n",
        "z = 31\n",
        "\n",
        "x + y * z"
      ],
      "metadata": {
        "colab": {
          "base_uri": "https://localhost:8080/"
        },
        "id": "25c6upwM9zQu",
        "outputId": "780f7f94-c023-4b86-e20d-70a0d91e1c52"
      },
      "execution_count": null,
      "outputs": [
        {
          "output_type": "execute_result",
          "data": {
            "text/plain": [
              "630"
            ]
          },
          "metadata": {},
          "execution_count": 164
        }
      ]
    },
    {
      "cell_type": "code",
      "source": [
        "mike = 10\n",
        "spike = 34\n",
        "mike + spike"
      ],
      "metadata": {
        "colab": {
          "base_uri": "https://localhost:8080/"
        },
        "id": "T3Pvv46vB72I",
        "outputId": "eb6e7507-d4ab-4ef5-9fc8-79ebbb4ba96a"
      },
      "execution_count": null,
      "outputs": [
        {
          "output_type": "execute_result",
          "data": {
            "text/plain": [
              "44"
            ]
          },
          "metadata": {},
          "execution_count": 165
        }
      ]
    },
    {
      "cell_type": "markdown",
      "source": [
        "**Exercises**"
      ],
      "metadata": {
        "id": "EuHmoWdkCt9f"
      }
    },
    {
      "cell_type": "code",
      "source": [
        "x = 7\n",
        "y = -2\n",
        "z = 5\n",
        "\n",
        "result = 3*x * (4 + y)\n",
        "print(result)\n",
        "\n",
        "result = - y - ((x + 3) / z)\n",
        "print(result)"
      ],
      "metadata": {
        "colab": {
          "base_uri": "https://localhost:8080/"
        },
        "id": "kNyYZOHVCAeS",
        "outputId": "65489b9b-d416-4a28-c796-e9976b035cf4"
      },
      "execution_count": null,
      "outputs": [
        {
          "output_type": "stream",
          "name": "stdout",
          "text": [
            "42\n",
            "0.0\n"
          ]
        }
      ]
    },
    {
      "cell_type": "markdown",
      "source": [
        "**Printing out equation - Latex With Python**"
      ],
      "metadata": {
        "id": "TmnkkQJRsUnm"
      }
    },
    {
      "cell_type": "code",
      "source": [
        "from IPython.display import display, Math\n",
        "\n",
        "display( '4 + 3 = 7')\n",
        "display('4 + 3 = ' + str(4+3))"
      ],
      "metadata": {
        "id": "4SJdHo6cC-lD",
        "colab": {
          "base_uri": "https://localhost:8080/",
          "height": 54
        },
        "outputId": "26619f3d-ba77-4e4b-d895-c50cc9eb95cd"
      },
      "execution_count": null,
      "outputs": [
        {
          "output_type": "display_data",
          "data": {
            "text/plain": [
              "'4 + 3 = 7'"
            ],
            "application/vnd.google.colaboratory.intrinsic+json": {
              "type": "string"
            }
          },
          "metadata": {}
        },
        {
          "output_type": "display_data",
          "data": {
            "text/plain": [
              "'4 + 3 = 7'"
            ],
            "application/vnd.google.colaboratory.intrinsic+json": {
              "type": "string"
            }
          },
          "metadata": {}
        }
      ]
    },
    {
      "cell_type": "code",
      "source": [
        "display(Math('4+3=7'))"
      ],
      "metadata": {
        "colab": {
          "base_uri": "https://localhost:8080/",
          "height": 37
        },
        "id": "nsHjcK4tsqjE",
        "outputId": "8fdea91e-f0f6-4024-bd77-d92c586adb92"
      },
      "execution_count": null,
      "outputs": [
        {
          "output_type": "display_data",
          "data": {
            "text/plain": [
              "<IPython.core.display.Math object>"
            ],
            "text/latex": "$\\displaystyle 4+3=7$"
          },
          "metadata": {}
        }
      ]
    },
    {
      "cell_type": "code",
      "source": [
        "x = 4\n",
        "y = 5\n",
        "\n",
        "display(Math(f'{x} + {y} = {x + y}'))"
      ],
      "metadata": {
        "colab": {
          "base_uri": "https://localhost:8080/",
          "height": 37
        },
        "id": "nqe9N3azu4lZ",
        "outputId": "cfab4cd6-3ba6-45b9-bfc2-bf58b54d26eb"
      },
      "execution_count": null,
      "outputs": [
        {
          "output_type": "display_data",
          "data": {
            "text/plain": [
              "<IPython.core.display.Math object>"
            ],
            "text/latex": "$\\displaystyle 4 + 5 = 9$"
          },
          "metadata": {}
        }
      ]
    },
    {
      "cell_type": "code",
      "source": [
        "display(Math(f'{x} + {y} = {x + y}'))\n",
        "display(Math('%g + %g = %g' % (x, y, x + y)))"
      ],
      "metadata": {
        "colab": {
          "base_uri": "https://localhost:8080/",
          "height": 58
        },
        "id": "gKaP3EuQvc-L",
        "outputId": "71ed4963-3a00-4b75-e74d-4a4d93d3ec74"
      },
      "execution_count": null,
      "outputs": [
        {
          "output_type": "display_data",
          "data": {
            "text/plain": [
              "<IPython.core.display.Math object>"
            ],
            "text/latex": "$\\displaystyle 4 + 5 = 9$"
          },
          "metadata": {}
        },
        {
          "output_type": "display_data",
          "data": {
            "text/plain": [
              "<IPython.core.display.Math object>"
            ],
            "text/latex": "$\\displaystyle 4 + 5 = 9$"
          },
          "metadata": {}
        }
      ]
    },
    {
      "cell_type": "code",
      "source": [
        "display(Math('4/5 = .8'))\n",
        "display(Math('\\\\frac{4}{5}'))"
      ],
      "metadata": {
        "colab": {
          "base_uri": "https://localhost:8080/",
          "height": 71
        },
        "id": "4_0qQzmawQy_",
        "outputId": "01ebce77-825b-47df-8a52-6a96ff4f4da3"
      },
      "execution_count": null,
      "outputs": [
        {
          "output_type": "display_data",
          "data": {
            "text/plain": [
              "<IPython.core.display.Math object>"
            ],
            "text/latex": "$\\displaystyle 4/5 = .8$"
          },
          "metadata": {}
        },
        {
          "output_type": "display_data",
          "data": {
            "text/plain": [
              "<IPython.core.display.Math object>"
            ],
            "text/latex": "$\\displaystyle \\frac{4}{5}$"
          },
          "metadata": {}
        }
      ]
    },
    {
      "cell_type": "code",
      "source": [
        "x = 3.4\n",
        "y = 17\n",
        "\n",
        "display(Math('%g \\\\times %g = %g' % (x, y, x*y)))"
      ],
      "metadata": {
        "colab": {
          "base_uri": "https://localhost:8080/",
          "height": 37
        },
        "id": "u2VtgXGJxO_b",
        "outputId": "ef14cad0-cd5a-4596-bed6-e2ff4127b1f5"
      },
      "execution_count": null,
      "outputs": [
        {
          "output_type": "display_data",
          "data": {
            "text/plain": [
              "<IPython.core.display.Math object>"
            ],
            "text/latex": "$\\displaystyle 3.4 \\times 17 = 57.8$"
          },
          "metadata": {}
        }
      ]
    },
    {
      "cell_type": "markdown",
      "source": [
        "**Exercise**"
      ],
      "metadata": {
        "id": "t4sMhA8ezq7w"
      }
    },
    {
      "cell_type": "code",
      "source": [
        "x = 7\n",
        "y = -2\n",
        "z = 5\n",
        "\n",
        "display(Math('3x(4+y)=%g' % (3*x*(4+y))))\n",
        "display(Math('3 \\\\times %g(4+%g)=%g' % (x, y, 3*x*(4+y))))\n",
        "display(Math('-y-\\\\frac{7+3}{5}=%g' % (-y-((x+3)/z))))\n",
        "display(Math('-%g-\\\\frac{%g+3}{%g}=%g' % (y, x, z, -y-((x+3)/z))))"
      ],
      "metadata": {
        "colab": {
          "base_uri": "https://localhost:8080/",
          "height": 127
        },
        "id": "AFr0rGUnzORr",
        "outputId": "cdf20709-c77c-47ef-c82a-e64454132c4d"
      },
      "execution_count": null,
      "outputs": [
        {
          "output_type": "display_data",
          "data": {
            "text/plain": [
              "<IPython.core.display.Math object>"
            ],
            "text/latex": "$\\displaystyle 3x(4+y)=42$"
          },
          "metadata": {}
        },
        {
          "output_type": "display_data",
          "data": {
            "text/plain": [
              "<IPython.core.display.Math object>"
            ],
            "text/latex": "$\\displaystyle 3 \\times 7(4+-2)=42$"
          },
          "metadata": {}
        },
        {
          "output_type": "display_data",
          "data": {
            "text/plain": [
              "<IPython.core.display.Math object>"
            ],
            "text/latex": "$\\displaystyle -y-\\frac{7+3}{5}=0$"
          },
          "metadata": {}
        },
        {
          "output_type": "display_data",
          "data": {
            "text/plain": [
              "<IPython.core.display.Math object>"
            ],
            "text/latex": "$\\displaystyle --2-\\frac{7+3}{5}=0$"
          },
          "metadata": {}
        }
      ]
    },
    {
      "cell_type": "code",
      "source": [
        "from IPython.display import display, Math\n",
        "\n",
        "x = 4\n",
        "y = -2\n",
        "z = 3\n",
        "\n",
        "display(Math('x + y - z = %g' %(x+y-z)))\n",
        "display(Math('x \\\\times y + z = %g' %(x*y+z)))\n",
        "display(Math('\\\\frac{x+y}{z}=%g'%((x+y)/z)))\n",
        "display(Math('x^2 + y^2 - z^2=%g' % (x**2 + y**2 - z**2)))\n",
        "display(Math('(x-y)(y-z)(z-x)=%g' % ((x-y)*(y-z)*(z-x))))\n",
        "display(Math('\\\\frac{x^2-y^2}{z}=%g' % ((x**2-y**2)/z)))\n",
        "display(Math('x(y+z)-yz=%g' % (x*(y+z)-y*z) ))\n",
        "display(Math('\\\\frac{xyz}{x+y+z}=%g' %((x*y*z)/(x+y+z))))\n",
        "display(Math('(x+y)^2 - z^2=%g' % ((x+y)**2 - z**2)))\n",
        "display(Math('\\\\frac{x-y}{z+1}=%g' %((x-y)/(z+1))))"
      ],
      "metadata": {
        "colab": {
          "base_uri": "https://localhost:8080/",
          "height": 283
        },
        "id": "RLQjultT3l5q",
        "outputId": "4fabc4a7-352c-41eb-b9c0-d8921041fde6"
      },
      "execution_count": null,
      "outputs": [
        {
          "output_type": "display_data",
          "data": {
            "text/plain": [
              "<IPython.core.display.Math object>"
            ],
            "text/latex": "$\\displaystyle x + y - z = -1$"
          },
          "metadata": {}
        },
        {
          "output_type": "display_data",
          "data": {
            "text/plain": [
              "<IPython.core.display.Math object>"
            ],
            "text/latex": "$\\displaystyle x \\times y + z = -5$"
          },
          "metadata": {}
        },
        {
          "output_type": "display_data",
          "data": {
            "text/plain": [
              "<IPython.core.display.Math object>"
            ],
            "text/latex": "$\\displaystyle \\frac{x+y}{z}=0.666667$"
          },
          "metadata": {}
        },
        {
          "output_type": "display_data",
          "data": {
            "text/plain": [
              "<IPython.core.display.Math object>"
            ],
            "text/latex": "$\\displaystyle x^2 + y^2 - z^2=11$"
          },
          "metadata": {}
        },
        {
          "output_type": "display_data",
          "data": {
            "text/plain": [
              "<IPython.core.display.Math object>"
            ],
            "text/latex": "$\\displaystyle (x-y)(y-z)(z-x)=30$"
          },
          "metadata": {}
        },
        {
          "output_type": "display_data",
          "data": {
            "text/plain": [
              "<IPython.core.display.Math object>"
            ],
            "text/latex": "$\\displaystyle \\frac{x^2-y^2}{z}=4$"
          },
          "metadata": {}
        },
        {
          "output_type": "display_data",
          "data": {
            "text/plain": [
              "<IPython.core.display.Math object>"
            ],
            "text/latex": "$\\displaystyle x(y+z)-yz=10$"
          },
          "metadata": {}
        },
        {
          "output_type": "display_data",
          "data": {
            "text/plain": [
              "<IPython.core.display.Math object>"
            ],
            "text/latex": "$\\displaystyle \\frac{xyz}{x+y+z}=-4.8$"
          },
          "metadata": {}
        },
        {
          "output_type": "display_data",
          "data": {
            "text/plain": [
              "<IPython.core.display.Math object>"
            ],
            "text/latex": "$\\displaystyle (x+y)^2 - z^2=-5$"
          },
          "metadata": {}
        },
        {
          "output_type": "display_data",
          "data": {
            "text/plain": [
              "<IPython.core.display.Math object>"
            ],
            "text/latex": "$\\displaystyle \\frac{x-y}{z+1}=1.5$"
          },
          "metadata": {}
        }
      ]
    },
    {
      "cell_type": "markdown",
      "source": [
        "**Comment**"
      ],
      "metadata": {
        "id": "m8sGrXAV_uFS"
      }
    },
    {
      "cell_type": "code",
      "source": [
        "x = 5\n",
        "# x = 10\n",
        "display('when we use # x = 10 this mean program does not execute it')\n",
        "\n",
        "\"\"\"\n",
        "How about this\n",
        "Multiple\n",
        "Bla Bla\n",
        "\"\"\""
      ],
      "metadata": {
        "colab": {
          "base_uri": "https://localhost:8080/",
          "height": 54
        },
        "id": "tLAh94G-_VIC",
        "outputId": "81498feb-ef15-47f2-f156-496805506c44"
      },
      "execution_count": null,
      "outputs": [
        {
          "output_type": "display_data",
          "data": {
            "text/plain": [
              "'when we use # x = 10 this mean program does not execute it'"
            ],
            "application/vnd.google.colaboratory.intrinsic+json": {
              "type": "string"
            }
          },
          "metadata": {}
        },
        {
          "output_type": "execute_result",
          "data": {
            "text/plain": [
              "'\\nHow about this\\nMultiple \\nBla Bla\\n'"
            ],
            "application/vnd.google.colaboratory.intrinsic+json": {
              "type": "string"
            }
          },
          "metadata": {},
          "execution_count": 175
        }
      ]
    },
    {
      "cell_type": "markdown",
      "source": [
        "**Exponents - Power**"
      ],
      "metadata": {
        "id": "2Q2o0hNTABN-"
      }
    },
    {
      "cell_type": "code",
      "source": [
        "display(Math('3^2 = 3\\\\times3'))\n",
        "display(Math('3^4 = 3\\\\times3\\\\times3\\\\times3'))\n",
        "display(Math('3^2\\\\times3^4=3^{2+4}'))"
      ],
      "metadata": {
        "colab": {
          "base_uri": "https://localhost:8080/",
          "height": 78
        },
        "id": "7Q11ob-7_7XO",
        "outputId": "59975119-781e-4101-a3d1-a72b96161823"
      },
      "execution_count": null,
      "outputs": [
        {
          "output_type": "display_data",
          "data": {
            "text/plain": [
              "<IPython.core.display.Math object>"
            ],
            "text/latex": "$\\displaystyle 3^2 = 3\\times3$"
          },
          "metadata": {}
        },
        {
          "output_type": "display_data",
          "data": {
            "text/plain": [
              "<IPython.core.display.Math object>"
            ],
            "text/latex": "$\\displaystyle 3^4 = 3\\times3\\times3\\times3$"
          },
          "metadata": {}
        },
        {
          "output_type": "display_data",
          "data": {
            "text/plain": [
              "<IPython.core.display.Math object>"
            ],
            "text/latex": "$\\displaystyle 3^2\\times3^4=3^{2+4}$"
          },
          "metadata": {}
        }
      ]
    },
    {
      "cell_type": "code",
      "source": [
        "print(3**2)\n",
        "print(3^2) # because 011 ^ 010 = 001"
      ],
      "metadata": {
        "colab": {
          "base_uri": "https://localhost:8080/"
        },
        "id": "ptQPAO7-BNii",
        "outputId": "24de2997-33a1-44ef-d186-ee6174e688f5"
      },
      "execution_count": null,
      "outputs": [
        {
          "output_type": "stream",
          "name": "stdout",
          "text": [
            "9\n",
            "1\n"
          ]
        }
      ]
    },
    {
      "cell_type": "code",
      "source": [
        "print(3**3)\n",
        "print(3*3*3)"
      ],
      "metadata": {
        "colab": {
          "base_uri": "https://localhost:8080/"
        },
        "id": "SU6nfoJBFaQJ",
        "outputId": "0c6eef4c-22be-4a16-e8e1-a2ad32d4d64a"
      },
      "execution_count": null,
      "outputs": [
        {
          "output_type": "stream",
          "name": "stdout",
          "text": [
            "27\n",
            "27\n"
          ]
        }
      ]
    },
    {
      "cell_type": "code",
      "source": [
        "print(3**2 * 3**4)\n",
        "print(3 ** 6)\n",
        "print(3 **2+4)\n",
        "print(3 **(2+4))\n",
        "\n",
        "display(Math('3^2\\\\times 3^4 = 3^{2+4}'))"
      ],
      "metadata": {
        "colab": {
          "base_uri": "https://localhost:8080/",
          "height": 107
        },
        "id": "A6W0E9pyGs-z",
        "outputId": "0897aa62-b876-4e7d-a16f-402e0445cd0d"
      },
      "execution_count": null,
      "outputs": [
        {
          "output_type": "stream",
          "name": "stdout",
          "text": [
            "729\n",
            "729\n",
            "13\n",
            "729\n"
          ]
        },
        {
          "output_type": "display_data",
          "data": {
            "text/plain": [
              "<IPython.core.display.Math object>"
            ],
            "text/latex": "$\\displaystyle 3^2\\times 3^4 = 3^{2+4}$"
          },
          "metadata": {}
        }
      ]
    },
    {
      "cell_type": "markdown",
      "source": [
        "**Exercise**"
      ],
      "metadata": {
        "id": "lAbglvw3NM8c"
      }
    },
    {
      "cell_type": "code",
      "source": [
        "x = 5\n",
        "y = 5.1\n",
        "\n",
        "# 1\n",
        "display(Math('x^\\\\frac{3}{4}\\\\times4^y=%g' % (x**(3/4)*4**y)))\n",
        "# 2\n",
        "display(Math('\\\\frac{3^3}{x^y}=%g' % ((3**3)/(x**y))))\n",
        "# 3\n",
        "display(Math('10^{x-4}=%g' % (10**(x-4))))"
      ],
      "metadata": {
        "colab": {
          "base_uri": "https://localhost:8080/",
          "height": 98
        },
        "id": "I5tlKpAjGyrW",
        "outputId": "927b2c5a-ee6a-448f-ef4e-1bc64204eb8d"
      },
      "execution_count": null,
      "outputs": [
        {
          "output_type": "display_data",
          "data": {
            "text/plain": [
              "<IPython.core.display.Math object>"
            ],
            "text/latex": "$\\displaystyle x^\\frac{3}{4}\\times4^y=3933.09$"
          },
          "metadata": {}
        },
        {
          "output_type": "display_data",
          "data": {
            "text/plain": [
              "<IPython.core.display.Math object>"
            ],
            "text/latex": "$\\displaystyle \\frac{3^3}{x^y}=0.00735558$"
          },
          "metadata": {}
        },
        {
          "output_type": "display_data",
          "data": {
            "text/plain": [
              "<IPython.core.display.Math object>"
            ],
            "text/latex": "$\\displaystyle 10^{x-4}=10$"
          },
          "metadata": {}
        }
      ]
    },
    {
      "cell_type": "markdown",
      "source": [
        "**For Loops To Compute Powers**"
      ],
      "metadata": {
        "id": "IMJZ6qYPSGxi"
      }
    },
    {
      "cell_type": "code",
      "source": [
        "for x in [0, 1, 2, 3]:\n",
        "  print(x)\n",
        "\n",
        "print('-------------------------------------------------')\n",
        "\n",
        "for x in range(1, 10, 2):\n",
        "  print(x)\n",
        "\n",
        "print('-------------------------------------------------')\n",
        "\n",
        "list(range(0,3))\n",
        "\n",
        "for qwerty in range(0, 3):\n",
        "  print('This is the %gth interation.' %qwerty)\n",
        "\n",
        "print('-------------------------------------------------')\n",
        "for t in range(0,5):\n",
        "  num = t**2\n",
        "  print(num)"
      ],
      "metadata": {
        "colab": {
          "base_uri": "https://localhost:8080/"
        },
        "id": "gxuTQJFfOMK_",
        "outputId": "3d606481-8db1-4ed1-d0e2-afae3f1abd0a"
      },
      "execution_count": null,
      "outputs": [
        {
          "output_type": "stream",
          "name": "stdout",
          "text": [
            "0\n",
            "1\n",
            "2\n",
            "3\n",
            "-------------------------------------------------\n",
            "1\n",
            "3\n",
            "5\n",
            "7\n",
            "9\n",
            "-------------------------------------------------\n",
            "This is the 0th interation.\n",
            "This is the 1th interation.\n",
            "This is the 2th interation.\n",
            "-------------------------------------------------\n",
            "0\n",
            "1\n",
            "4\n",
            "9\n",
            "16\n"
          ]
        }
      ]
    },
    {
      "cell_type": "code",
      "source": [
        "base = 2\n",
        "\n",
        "for number in range(10):\n",
        "  display(Math('%g \\\\text{ to the power of } %g \\\\text{ that mean } 2^%g  \\\\text{ is }  %g' % (base, number, number, base**number)))"
      ],
      "metadata": {
        "colab": {
          "base_uri": "https://localhost:8080/",
          "height": 220
        },
        "id": "ZCRYfszWS71I",
        "outputId": "7f1705d4-16f7-4781-da80-11e7c2a13601"
      },
      "execution_count": null,
      "outputs": [
        {
          "output_type": "display_data",
          "data": {
            "text/plain": [
              "<IPython.core.display.Math object>"
            ],
            "text/latex": "$\\displaystyle 2 \\text{ to the power of } 0 \\text{ that mean } 2^0  \\text{ is }  1$"
          },
          "metadata": {}
        },
        {
          "output_type": "display_data",
          "data": {
            "text/plain": [
              "<IPython.core.display.Math object>"
            ],
            "text/latex": "$\\displaystyle 2 \\text{ to the power of } 1 \\text{ that mean } 2^1  \\text{ is }  2$"
          },
          "metadata": {}
        },
        {
          "output_type": "display_data",
          "data": {
            "text/plain": [
              "<IPython.core.display.Math object>"
            ],
            "text/latex": "$\\displaystyle 2 \\text{ to the power of } 2 \\text{ that mean } 2^2  \\text{ is }  4$"
          },
          "metadata": {}
        },
        {
          "output_type": "display_data",
          "data": {
            "text/plain": [
              "<IPython.core.display.Math object>"
            ],
            "text/latex": "$\\displaystyle 2 \\text{ to the power of } 3 \\text{ that mean } 2^3  \\text{ is }  8$"
          },
          "metadata": {}
        },
        {
          "output_type": "display_data",
          "data": {
            "text/plain": [
              "<IPython.core.display.Math object>"
            ],
            "text/latex": "$\\displaystyle 2 \\text{ to the power of } 4 \\text{ that mean } 2^4  \\text{ is }  16$"
          },
          "metadata": {}
        },
        {
          "output_type": "display_data",
          "data": {
            "text/plain": [
              "<IPython.core.display.Math object>"
            ],
            "text/latex": "$\\displaystyle 2 \\text{ to the power of } 5 \\text{ that mean } 2^5  \\text{ is }  32$"
          },
          "metadata": {}
        },
        {
          "output_type": "display_data",
          "data": {
            "text/plain": [
              "<IPython.core.display.Math object>"
            ],
            "text/latex": "$\\displaystyle 2 \\text{ to the power of } 6 \\text{ that mean } 2^6  \\text{ is }  64$"
          },
          "metadata": {}
        },
        {
          "output_type": "display_data",
          "data": {
            "text/plain": [
              "<IPython.core.display.Math object>"
            ],
            "text/latex": "$\\displaystyle 2 \\text{ to the power of } 7 \\text{ that mean } 2^7  \\text{ is }  128$"
          },
          "metadata": {}
        },
        {
          "output_type": "display_data",
          "data": {
            "text/plain": [
              "<IPython.core.display.Math object>"
            ],
            "text/latex": "$\\displaystyle 2 \\text{ to the power of } 8 \\text{ that mean } 2^8  \\text{ is }  256$"
          },
          "metadata": {}
        },
        {
          "output_type": "display_data",
          "data": {
            "text/plain": [
              "<IPython.core.display.Math object>"
            ],
            "text/latex": "$\\displaystyle 2 \\text{ to the power of } 9 \\text{ that mean } 2^9  \\text{ is }  512$"
          },
          "metadata": {}
        }
      ]
    },
    {
      "cell_type": "markdown",
      "source": [
        "# **Order Operator**\n",
        "\n",
        "1. Parentheses\n",
        "2. Exponents\n",
        "3. Multiplication\n",
        "4. Division\n",
        "5. Addition\n",
        "6. Subtraction"
      ],
      "metadata": {
        "id": "FbkIwBSAHSBu"
      }
    },
    {
      "cell_type": "markdown",
      "source": [
        "**Exercise**"
      ],
      "metadata": {
        "id": "hRm2r30wLFiG"
      }
    },
    {
      "cell_type": "code",
      "source": [
        "display(Math('Require: 4 \\\\times 5 \\\\text{ / } 7 + 3 = 2'))\n",
        "display(Math('Answer: (4 \\\\times 5) \\\\text{ / } (7 + 3) = %g' % ((4*5)/(7+3))))\n",
        "\n",
        "display(Math('Require: 9 \\\\text{ / } 3 + 6 - 1 = 0'))\n",
        "display(Math('Answer: 9 \\\\text{ / } (3 + 6) - 1 = %g' % (9/(3+6)-1)))"
      ],
      "metadata": {
        "colab": {
          "base_uri": "https://localhost:8080/",
          "height": 102
        },
        "id": "IAyoL1QQCNPG",
        "outputId": "cbf2f040-25b5-4a01-a15f-0a8d7f9ad6c0"
      },
      "execution_count": null,
      "outputs": [
        {
          "output_type": "display_data",
          "data": {
            "text/plain": [
              "<IPython.core.display.Math object>"
            ],
            "text/latex": "$\\displaystyle Require: 4 \\times 5 \\text{ / } 7 + 3 = 2$"
          },
          "metadata": {}
        },
        {
          "output_type": "display_data",
          "data": {
            "text/plain": [
              "<IPython.core.display.Math object>"
            ],
            "text/latex": "$\\displaystyle Answer: (4 \\times 5) \\text{ / } (7 + 3) = 2$"
          },
          "metadata": {}
        },
        {
          "output_type": "display_data",
          "data": {
            "text/plain": [
              "<IPython.core.display.Math object>"
            ],
            "text/latex": "$\\displaystyle Require: 9 \\text{ / } 3 + 6 - 1 = 0$"
          },
          "metadata": {}
        },
        {
          "output_type": "display_data",
          "data": {
            "text/plain": [
              "<IPython.core.display.Math object>"
            ],
            "text/latex": "$\\displaystyle Answer: 9 \\text{ / } (3 + 6) - 1 = 0$"
          },
          "metadata": {}
        }
      ]
    },
    {
      "cell_type": "markdown",
      "source": [
        "# **Testing Inequlities and Boolean data type**"
      ],
      "metadata": {
        "id": "-yY5MB1WSc-p"
      }
    },
    {
      "cell_type": "code",
      "source": [
        "b = 30 > 3*3\n",
        "print(b)\n",
        "print(type(b))\n",
        "display(4 >= 2+2)\n",
        "print(4 == 2+2)"
      ],
      "metadata": {
        "colab": {
          "base_uri": "https://localhost:8080/",
          "height": 86
        },
        "id": "TFW4LBIoLC7N",
        "outputId": "2cd1541b-bae4-4e6f-9213-3dd283bf0bf4"
      },
      "execution_count": null,
      "outputs": [
        {
          "output_type": "stream",
          "name": "stdout",
          "text": [
            "True\n",
            "<class 'bool'>\n"
          ]
        },
        {
          "output_type": "display_data",
          "data": {
            "text/plain": [
              "True"
            ]
          },
          "metadata": {}
        },
        {
          "output_type": "stream",
          "name": "stdout",
          "text": [
            "True\n"
          ]
        }
      ]
    },
    {
      "cell_type": "markdown",
      "source": [
        "**Exercise**"
      ],
      "metadata": {
        "id": "Tcjk7HItTmYV"
      }
    },
    {
      "cell_type": "code",
      "source": [
        "print('We require test with x=2, x=3, x=4')\n",
        "\n",
        "display(Math('Question 1: 4x+3 < 17-x^2'))\n",
        "display(Math('Question 2: 8x-2 \\leq -3x+42'))"
      ],
      "metadata": {
        "colab": {
          "base_uri": "https://localhost:8080/",
          "height": 77
        },
        "id": "FRdDU0YqTqGj",
        "outputId": "19837eb0-5149-4b87-a85e-4573665fcfd2"
      },
      "execution_count": null,
      "outputs": [
        {
          "output_type": "stream",
          "name": "stdout",
          "text": [
            "We require test with x=2, x=3, x=4\n"
          ]
        },
        {
          "output_type": "display_data",
          "data": {
            "text/plain": [
              "<IPython.core.display.Math object>"
            ],
            "text/latex": "$\\displaystyle Question 1: 4x+3 < 17-x^2$"
          },
          "metadata": {}
        },
        {
          "output_type": "display_data",
          "data": {
            "text/plain": [
              "<IPython.core.display.Math object>"
            ],
            "text/latex": "$\\displaystyle Question 2: 8x-2 \\leq -3x+42$"
          },
          "metadata": {}
        }
      ]
    },
    {
      "cell_type": "code",
      "source": [
        "display(Math('\\\\text{x=2}'))\n",
        "x = 2\n",
        "\n",
        "display(Math('Question 1: 4x+3 < 17-x^2 \\\\text{ => }%s' % (str((4*x+3)<(17-x**2)))))\n",
        "display(Math('Question 2: 8x-2 \\leq -3x+42 \\\\text{ => }%s' % (str((8*x-2)<=(-3*x+42)))))"
      ],
      "metadata": {
        "colab": {
          "base_uri": "https://localhost:8080/",
          "height": 80
        },
        "id": "zvIhg6fyT7WR",
        "outputId": "f8eae7f3-21aa-4bb8-9b99-6d23ac0efab1"
      },
      "execution_count": null,
      "outputs": [
        {
          "output_type": "display_data",
          "data": {
            "text/plain": [
              "<IPython.core.display.Math object>"
            ],
            "text/latex": "$\\displaystyle \\text{x=2}$"
          },
          "metadata": {}
        },
        {
          "output_type": "display_data",
          "data": {
            "text/plain": [
              "<IPython.core.display.Math object>"
            ],
            "text/latex": "$\\displaystyle Question 1: 4x+3 < 17-x^2 \\text{ => }True$"
          },
          "metadata": {}
        },
        {
          "output_type": "display_data",
          "data": {
            "text/plain": [
              "<IPython.core.display.Math object>"
            ],
            "text/latex": "$\\displaystyle Question 2: 8x-2 \\leq -3x+42 \\text{ => }True$"
          },
          "metadata": {}
        }
      ]
    },
    {
      "cell_type": "code",
      "source": [
        "display(Math('\\\\text{x=3}'))\n",
        "\n",
        "x = 3\n",
        "\n",
        "display(Math('Question 1: 4x+3 < 17-x^2 \\\\text{ => }%s' % (str((4*x+3)<(17-x**2)))))\n",
        "display(Math('Question 2: 8x-2 \\leq -3x+42 \\\\text{ => }%s' % (str((8*x-2)<=(-3*x+42)))))"
      ],
      "metadata": {
        "colab": {
          "base_uri": "https://localhost:8080/",
          "height": 80
        },
        "id": "PkrLIvFdUaRN",
        "outputId": "c6c7b1ae-fd43-4295-f232-bbabb348d6a8"
      },
      "execution_count": null,
      "outputs": [
        {
          "output_type": "display_data",
          "data": {
            "text/plain": [
              "<IPython.core.display.Math object>"
            ],
            "text/latex": "$\\displaystyle \\text{x=3}$"
          },
          "metadata": {}
        },
        {
          "output_type": "display_data",
          "data": {
            "text/plain": [
              "<IPython.core.display.Math object>"
            ],
            "text/latex": "$\\displaystyle Question 1: 4x+3 < 17-x^2 \\text{ => }False$"
          },
          "metadata": {}
        },
        {
          "output_type": "display_data",
          "data": {
            "text/plain": [
              "<IPython.core.display.Math object>"
            ],
            "text/latex": "$\\displaystyle Question 2: 8x-2 \\leq -3x+42 \\text{ => }True$"
          },
          "metadata": {}
        }
      ]
    },
    {
      "cell_type": "code",
      "source": [
        "display(Math('\\\\text{x=4}'))\n",
        "x=4\n",
        "\n",
        "display(Math('Question 1: 4x+3 < 17-x^2 \\\\text{ => }%s' % (str((4*x+3)<(17-x**2)))))\n",
        "display(Math('Question 2: 8x-2 \\leq -3x+42 \\\\text{ => }%s' % (str((8*x-2)<=(-3*x+42)))))"
      ],
      "metadata": {
        "colab": {
          "base_uri": "https://localhost:8080/",
          "height": 80
        },
        "id": "_GppqKcVUbWL",
        "outputId": "01a640de-f03e-4bcd-d12b-44a217657530"
      },
      "execution_count": null,
      "outputs": [
        {
          "output_type": "display_data",
          "data": {
            "text/plain": [
              "<IPython.core.display.Math object>"
            ],
            "text/latex": "$\\displaystyle \\text{x=4}$"
          },
          "metadata": {}
        },
        {
          "output_type": "display_data",
          "data": {
            "text/plain": [
              "<IPython.core.display.Math object>"
            ],
            "text/latex": "$\\displaystyle Question 1: 4x+3 < 17-x^2 \\text{ => }False$"
          },
          "metadata": {}
        },
        {
          "output_type": "display_data",
          "data": {
            "text/plain": [
              "<IPython.core.display.Math object>"
            ],
            "text/latex": "$\\displaystyle Question 2: 8x-2 \\leq -3x+42 \\text{ => }True$"
          },
          "metadata": {}
        }
      ]
    },
    {
      "cell_type": "markdown",
      "source": [
        "# **If Statement And Logical Operator**"
      ],
      "metadata": {
        "id": "yPNXituTZtUt"
      }
    },
    {
      "cell_type": "code",
      "source": [
        "number = int(input(\"Type your number ?\"))\n",
        "\n",
        "if 4+2==number:\n",
        "  print(True)\n",
        "else:\n",
        "  print(4+2)\n",
        "\n",
        "x1 = 3\n",
        "x2 = 4\n",
        "\n",
        "if (x1 > x2):\n",
        "  print(True)\n",
        "else:\n",
        "  print(False)"
      ],
      "metadata": {
        "id": "b0ABzasEUbqz",
        "colab": {
          "base_uri": "https://localhost:8080/"
        },
        "outputId": "dbaf2015-620a-4764-f6ac-f46b4697ed1d"
      },
      "execution_count": null,
      "outputs": [
        {
          "output_type": "stream",
          "name": "stdout",
          "text": [
            "Type your number ?9\n",
            "6\n",
            "False\n"
          ]
        }
      ]
    },
    {
      "cell_type": "markdown",
      "source": [
        "**Exercise**"
      ],
      "metadata": {
        "id": "5FO7277NSYSn"
      }
    },
    {
      "cell_type": "code",
      "source": [
        "from IPython.display import display, Math\n",
        "\n",
        "for i in range(4):\n",
        "  for j in range(5):\n",
        "    if i > 0 and j > 0:\n",
        "      display(Math('%g^{%g} = %g' % (i, -j, i**-j)))"
      ],
      "metadata": {
        "colab": {
          "base_uri": "https://localhost:8080/",
          "height": 261
        },
        "id": "i0YuJtx1QpY7",
        "outputId": "0c68fb09-4170-4167-f8fb-de06760f0855"
      },
      "execution_count": null,
      "outputs": [
        {
          "output_type": "display_data",
          "data": {
            "text/plain": [
              "<IPython.core.display.Math object>"
            ],
            "text/latex": "$\\displaystyle 1^{-1} = 1$"
          },
          "metadata": {}
        },
        {
          "output_type": "display_data",
          "data": {
            "text/plain": [
              "<IPython.core.display.Math object>"
            ],
            "text/latex": "$\\displaystyle 1^{-2} = 1$"
          },
          "metadata": {}
        },
        {
          "output_type": "display_data",
          "data": {
            "text/plain": [
              "<IPython.core.display.Math object>"
            ],
            "text/latex": "$\\displaystyle 1^{-3} = 1$"
          },
          "metadata": {}
        },
        {
          "output_type": "display_data",
          "data": {
            "text/plain": [
              "<IPython.core.display.Math object>"
            ],
            "text/latex": "$\\displaystyle 1^{-4} = 1$"
          },
          "metadata": {}
        },
        {
          "output_type": "display_data",
          "data": {
            "text/plain": [
              "<IPython.core.display.Math object>"
            ],
            "text/latex": "$\\displaystyle 2^{-1} = 0.5$"
          },
          "metadata": {}
        },
        {
          "output_type": "display_data",
          "data": {
            "text/plain": [
              "<IPython.core.display.Math object>"
            ],
            "text/latex": "$\\displaystyle 2^{-2} = 0.25$"
          },
          "metadata": {}
        },
        {
          "output_type": "display_data",
          "data": {
            "text/plain": [
              "<IPython.core.display.Math object>"
            ],
            "text/latex": "$\\displaystyle 2^{-3} = 0.125$"
          },
          "metadata": {}
        },
        {
          "output_type": "display_data",
          "data": {
            "text/plain": [
              "<IPython.core.display.Math object>"
            ],
            "text/latex": "$\\displaystyle 2^{-4} = 0.0625$"
          },
          "metadata": {}
        },
        {
          "output_type": "display_data",
          "data": {
            "text/plain": [
              "<IPython.core.display.Math object>"
            ],
            "text/latex": "$\\displaystyle 3^{-1} = 0.333333$"
          },
          "metadata": {}
        },
        {
          "output_type": "display_data",
          "data": {
            "text/plain": [
              "<IPython.core.display.Math object>"
            ],
            "text/latex": "$\\displaystyle 3^{-2} = 0.111111$"
          },
          "metadata": {}
        },
        {
          "output_type": "display_data",
          "data": {
            "text/plain": [
              "<IPython.core.display.Math object>"
            ],
            "text/latex": "$\\displaystyle 3^{-3} = 0.037037$"
          },
          "metadata": {}
        },
        {
          "output_type": "display_data",
          "data": {
            "text/plain": [
              "<IPython.core.display.Math object>"
            ],
            "text/latex": "$\\displaystyle 3^{-4} = 0.0123457$"
          },
          "metadata": {}
        }
      ]
    },
    {
      "cell_type": "markdown",
      "source": [
        "**Absolute Value**"
      ],
      "metadata": {
        "id": "ZWCopfqvWu3l"
      }
    },
    {
      "cell_type": "code",
      "source": [
        "a = -4\n",
        "b = abs(a)\n",
        "a, b"
      ],
      "metadata": {
        "colab": {
          "base_uri": "https://localhost:8080/"
        },
        "id": "6MXkaW-JS2ql",
        "outputId": "575250ed-933d-4f46-9b27-a12436c97708"
      },
      "execution_count": null,
      "outputs": [
        {
          "output_type": "execute_result",
          "data": {
            "text/plain": [
              "(-4, 4)"
            ]
          },
          "metadata": {},
          "execution_count": 18
        }
      ]
    },
    {
      "cell_type": "code",
      "source": [
        "x = -4.3\n",
        "\n",
        "display(Math('|x| = x \\\\text{ that mean %g => %g}' %(x, abs(x))))"
      ],
      "metadata": {
        "colab": {
          "base_uri": "https://localhost:8080/",
          "height": 38
        },
        "id": "nRTvztu1Yj5M",
        "outputId": "320f385b-0c98-4d19-9f75-e1988d2bc127"
      },
      "execution_count": null,
      "outputs": [
        {
          "output_type": "display_data",
          "data": {
            "text/plain": [
              "<IPython.core.display.Math object>"
            ],
            "text/latex": "$\\displaystyle |x| = x \\text{ that mean -4.3 => 4.3}$"
          },
          "metadata": {}
        }
      ]
    },
    {
      "cell_type": "markdown",
      "source": [
        "**Exercise**"
      ],
      "metadata": {
        "id": "PcJNA1E5Z5QR"
      }
    },
    {
      "cell_type": "code",
      "source": [
        "numbers = [-4, 6, -1, 43, -18, 2, 0]\n",
        "\n",
        "for number in numbers:\n",
        "  if number < -5 or number > 2:\n",
        "    print(abs(number))\n",
        "  else:\n",
        "    print(str(number) + ' not tested')"
      ],
      "metadata": {
        "colab": {
          "base_uri": "https://localhost:8080/"
        },
        "id": "a-5HR3dWY7pc",
        "outputId": "dbf8bc6d-56cf-42e6-cb85-1db31abae5c9"
      },
      "execution_count": null,
      "outputs": [
        {
          "output_type": "stream",
          "name": "stdout",
          "text": [
            "-4 not tested\n",
            "6\n",
            "-1 not tested\n",
            "43\n",
            "18\n",
            "2 not tested\n",
            "0 not tested\n"
          ]
        }
      ]
    },
    {
      "cell_type": "markdown",
      "source": [
        "**Modulus**"
      ],
      "metadata": {
        "id": "2PFzkNIHcQTG"
      }
    },
    {
      "cell_type": "code",
      "source": [
        "a = 10\n",
        "b = 3\n",
        "\n",
        "# division\n",
        "print(int(a/b))\n",
        "print(a%b)"
      ],
      "metadata": {
        "colab": {
          "base_uri": "https://localhost:8080/"
        },
        "id": "aurNtChLaYcR",
        "outputId": "a09e7bc8-1457-4d6c-c4f3-5e356071de63"
      },
      "execution_count": null,
      "outputs": [
        {
          "output_type": "stream",
          "name": "stdout",
          "text": [
            "3\n",
            "1\n"
          ]
        }
      ]
    },
    {
      "cell_type": "code",
      "source": [
        "from fractions import Fraction\n",
        "\n",
        "expr_value = Fraction(2, 3)\n",
        "numerator = expr_value.numerator\n",
        "denominator = expr_value.denominator\n",
        "print(numerator, denominator)"
      ],
      "metadata": {
        "colab": {
          "base_uri": "https://localhost:8080/"
        },
        "id": "5VnC5lKtc4L-",
        "outputId": "55d5779c-824e-41a2-d2db-661d92087abc"
      },
      "execution_count": null,
      "outputs": [
        {
          "output_type": "stream",
          "name": "stdout",
          "text": [
            "2 3\n"
          ]
        }
      ]
    },
    {
      "cell_type": "markdown",
      "source": [
        "**Exercise**"
      ],
      "metadata": {
        "id": "zzVMrjgreDMl"
      }
    },
    {
      "cell_type": "code",
      "source": [
        "for number in range(-5, 6):\n",
        "  if number % 2 == 0:\n",
        "    print('%g is an even number' %number)\n",
        "  else:\n",
        "    print('%g is an odd number' %number)"
      ],
      "metadata": {
        "colab": {
          "base_uri": "https://localhost:8080/"
        },
        "id": "NarqcOpedx5w",
        "outputId": "5a56e2e9-da3e-45ef-a999-37f4fb983a18"
      },
      "execution_count": null,
      "outputs": [
        {
          "output_type": "stream",
          "name": "stdout",
          "text": [
            "-5 is an odd number\n",
            "-4 is an even number\n",
            "-3 is an odd number\n",
            "-2 is an even number\n",
            "-1 is an odd number\n",
            "0 is an even number\n",
            "1 is an odd number\n",
            "2 is an even number\n",
            "3 is an odd number\n",
            "4 is an even number\n",
            "5 is an odd number\n"
          ]
        }
      ]
    },
    {
      "cell_type": "markdown",
      "source": [
        "**Create Interactive Math Functions**"
      ],
      "metadata": {
        "id": "04cmVJFTidID"
      }
    },
    {
      "cell_type": "code",
      "source": [
        "def myfunction(name):\n",
        "  print('Hello %s' % (name))\n",
        "\n",
        "myfunction('HEHE')\n",
        "\n",
        "def computerRemainder(x, y):\n",
        "  division = int(x/y)\n",
        "  remainder = x%y\n",
        "  return division, remainder\n",
        "\n",
        "[division, remainder] = computerRemainder(10, 3)\n",
        "\n",
        "tupleResult = computerRemainder(10, 3)\n",
        "\n",
        "print(tupleResult)\n",
        "print(division, remainder)"
      ],
      "metadata": {
        "colab": {
          "base_uri": "https://localhost:8080/"
        },
        "id": "h7COGWuqeTXJ",
        "outputId": "df2d8ce9-99eb-4063-a602-f453cbd9cd79"
      },
      "execution_count": null,
      "outputs": [
        {
          "output_type": "stream",
          "name": "stdout",
          "text": [
            "Hello HEHE\n",
            "(3, 1)\n",
            "3 1\n"
          ]
        }
      ]
    },
    {
      "cell_type": "code",
      "source": [
        "def computeExponentiation(x, y):\n",
        "  display(Math('%g^%g = %g' % (x, y, x**y)))\n",
        "\n",
        "def computeDivision(x, y):\n",
        "  display(Math('\\\\frac{%g}{%g} = %g' % (x, y, x/y)))\n",
        "\n",
        "x = int(input(\"Input X: \"))\n",
        "y = int(input(\"Input Y: \"))\n",
        "display(Math('Press \\\\text{ \"1\" to compute } 2^4 \\\\text{ or \"2\" to compute } \\\\frac{2}{4}'))\n",
        "operator = input()\n",
        "\n",
        "if operator == '1':\n",
        "  result = computeExponentiation(x, y)\n",
        "elif operator == '2':\n",
        "  result = computeDivision(x, y)\n",
        "else:\n",
        "  print(\"Invalid selection !\")\n"
      ],
      "metadata": {
        "colab": {
          "base_uri": "https://localhost:8080/",
          "height": 137
        },
        "id": "6U-LMRhgiw4V",
        "outputId": "23631ff3-ac91-42b7-e880-6b8a3ec384d5"
      },
      "execution_count": null,
      "outputs": [
        {
          "name": "stdout",
          "output_type": "stream",
          "text": [
            "Input X: 9\n",
            "Input Y: 5\n"
          ]
        },
        {
          "output_type": "display_data",
          "data": {
            "text/plain": [
              "<IPython.core.display.Math object>"
            ],
            "text/latex": "$\\displaystyle Press \\text{ \"1\" to compute } 2^4 \\text{ or \"2\" to compute } \\frac{2}{4}$"
          },
          "metadata": {}
        },
        {
          "name": "stdout",
          "output_type": "stream",
          "text": [
            "2\n"
          ]
        },
        {
          "output_type": "display_data",
          "data": {
            "text/plain": [
              "<IPython.core.display.Math object>"
            ],
            "text/latex": "$\\displaystyle \\frac{9}{5} = 1.8$"
          },
          "metadata": {}
        }
      ]
    },
    {
      "cell_type": "markdown",
      "source": [
        "**Create Interactive Math Functions Part 2**"
      ],
      "metadata": {
        "id": "2YmpFiS2Dhtc"
      }
    },
    {
      "cell_type": "code",
      "source": [
        "from IPython.display import display, Math\n",
        "\n",
        "def powers(x, y):\n",
        "  display(Math('%g^{%g} = %g' % (x, y, x**y)))\n",
        "\n",
        "powers(5, 6)"
      ],
      "metadata": {
        "id": "76gVDAnMnFxC",
        "colab": {
          "base_uri": "https://localhost:8080/",
          "height": 37
        },
        "outputId": "f00ba586-e859-43ee-dae8-ad816fd2af15"
      },
      "execution_count": 1,
      "outputs": [
        {
          "output_type": "display_data",
          "data": {
            "text/plain": [
              "<IPython.core.display.Math object>"
            ],
            "text/latex": "$\\displaystyle 5^{6} = 15625$"
          },
          "metadata": {}
        }
      ]
    },
    {
      "cell_type": "code",
      "source": [
        "def division(x, y):\n",
        "  display(Math('\\\\frac{%g}{%g} = %g' % (x, y, x/y)))\n",
        "\n",
        "division(12, 8)"
      ],
      "metadata": {
        "colab": {
          "base_uri": "https://localhost:8080/",
          "height": 51
        },
        "id": "V02-oBLQEEjt",
        "outputId": "879d148e-32e6-4122-81ff-1926a34b0a18"
      },
      "execution_count": 3,
      "outputs": [
        {
          "output_type": "display_data",
          "data": {
            "text/plain": [
              "<IPython.core.display.Math object>"
            ],
            "text/latex": "$\\displaystyle \\frac{12}{8} = 1.5$"
          },
          "metadata": {}
        }
      ]
    },
    {
      "cell_type": "code",
      "source": [
        "def mainFunction():\n",
        "  x = float(input('Input X: '))\n",
        "  y = float(input('Input Y: '))\n",
        "\n",
        "  display(Math('\\\\text{Press \"1\" to compute } %g^{%g} \\\\text{ or \"2\" to compute } \\\\frac{%g}{%g}' % (x, y, x, y)))\n",
        "  switch = input(' ')\n",
        "\n",
        "  if switch == '1':\n",
        "    powers(x, y)\n",
        "  elif switch == '2':\n",
        "    division(x, y)\n",
        "  else:\n",
        "    print('Invalid selection !')\n",
        "\n",
        "mainFunction()"
      ],
      "metadata": {
        "colab": {
          "base_uri": "https://localhost:8080/",
          "height": 137
        },
        "id": "GcqrSw-MG6bk",
        "outputId": "5757557e-1e3b-4a43-86f1-66f089b204ae"
      },
      "execution_count": 10,
      "outputs": [
        {
          "name": "stdout",
          "output_type": "stream",
          "text": [
            "Input X: 4\n",
            "Input Y: 2\n"
          ]
        },
        {
          "output_type": "display_data",
          "data": {
            "text/plain": [
              "<IPython.core.display.Math object>"
            ],
            "text/latex": "$\\displaystyle \\text{Press \"1\" to compute } 4^{2} \\text{ or \"2\" to compute } \\frac{4}{2}$"
          },
          "metadata": {}
        },
        {
          "name": "stdout",
          "output_type": "stream",
          "text": [
            " 2\n"
          ]
        },
        {
          "output_type": "display_data",
          "data": {
            "text/plain": [
              "<IPython.core.display.Math object>"
            ],
            "text/latex": "$\\displaystyle \\frac{4}{2} = 2$"
          },
          "metadata": {}
        }
      ]
    },
    {
      "cell_type": "markdown",
      "source": [
        "**Create Interactive Math Functions Part 3**"
      ],
      "metadata": {
        "id": "JXl78xghJfac"
      }
    },
    {
      "cell_type": "code",
      "source": [
        "from numpy import random\n",
        "\n",
        "def guessTheNumber():\n",
        "  randNum = random.randint(1, 101)\n",
        "  guess = int(input('Guess a number between 1 and 100: '))\n",
        "  while guess != randNum:\n",
        "    if guess < randNum:\n",
        "      guess = print('Guess higher')\n",
        "    elif guess > randNum:\n",
        "      guess = print('Guess lower')\n",
        "    guess = int(input('Guess again: '))\n",
        "  print('Correct !')\n",
        "\n",
        "guessTheNumber()"
      ],
      "metadata": {
        "colab": {
          "base_uri": "https://localhost:8080/"
        },
        "id": "Ua9CRX0jIKUj",
        "outputId": "344bd0a6-1cef-427e-cea0-8a5ae19368e5"
      },
      "execution_count": 23,
      "outputs": [
        {
          "output_type": "stream",
          "name": "stdout",
          "text": [
            "Guess a number between 1 and 100: 30\n",
            "Guess lower\n",
            "Guess again: 20\n",
            "Guess lower\n",
            "Guess again: 18\n",
            "Guess lower\n",
            "Guess again: 14\n",
            "Guess higher\n",
            "Guess again: 16\n",
            "Guess lower\n",
            "Guess again: 15\n",
            "Correct !\n"
          ]
        }
      ]
    },
    {
      "cell_type": "markdown",
      "source": [
        "**Arithmetic Bug Hunt**"
      ],
      "metadata": {
        "id": "y62kE7TCQkbB"
      }
    },
    {
      "cell_type": "code",
      "source": [
        "x = '1'\n",
        "y = '2'\n",
        "\n",
        "print(int(x)+int(y))"
      ],
      "metadata": {
        "colab": {
          "base_uri": "https://localhost:8080/"
        },
        "id": "wzKpkNVTKAWR",
        "outputId": "d9748360-db0d-45c7-9620-c24fe1e211da"
      },
      "execution_count": 25,
      "outputs": [
        {
          "output_type": "stream",
          "name": "stdout",
          "text": [
            "3\n"
          ]
        }
      ]
    },
    {
      "cell_type": "code",
      "source": [
        "from IPython.display import display, Math\n",
        "\n",
        "display(Math('\\\\frac{1}{2}'))"
      ],
      "metadata": {
        "colab": {
          "base_uri": "https://localhost:8080/",
          "height": 51
        },
        "id": "l_29awS9Q8fg",
        "outputId": "c4c98c8b-91c2-49dd-d147-51ecad4f5252"
      },
      "execution_count": 27,
      "outputs": [
        {
          "output_type": "display_data",
          "data": {
            "text/plain": [
              "<IPython.core.display.Math object>"
            ],
            "text/latex": "$\\displaystyle \\frac{1}{2}$"
          },
          "metadata": {}
        }
      ]
    },
    {
      "cell_type": "code",
      "source": [
        "x = 4\n",
        "y = 5\n",
        "display(Math('\\\\frac{%g}{%g} = %g' %(x, y, x/y) ))"
      ],
      "metadata": {
        "colab": {
          "base_uri": "https://localhost:8080/",
          "height": 51
        },
        "id": "RTOIG4c2RGmk",
        "outputId": "3cd47357-177f-4846-ce88-0476437ffdf6"
      },
      "execution_count": 29,
      "outputs": [
        {
          "output_type": "display_data",
          "data": {
            "text/plain": [
              "<IPython.core.display.Math object>"
            ],
            "text/latex": "$\\displaystyle \\frac{4}{5} = 0.8$"
          },
          "metadata": {}
        }
      ]
    },
    {
      "cell_type": "code",
      "source": [
        "3**2"
      ],
      "metadata": {
        "colab": {
          "base_uri": "https://localhost:8080/"
        },
        "id": "BCi7IRTPRSNq",
        "outputId": "d6157bd3-9d47-4ff9-d084-a8c82bcb5acf"
      },
      "execution_count": 30,
      "outputs": [
        {
          "output_type": "execute_result",
          "data": {
            "text/plain": [
              "9"
            ]
          },
          "metadata": {},
          "execution_count": 30
        }
      ]
    },
    {
      "cell_type": "code",
      "source": [
        "for i in range(0, 3):\n",
        "  display(Math('%g \\\\times2 = %g' % (i, i**2)))"
      ],
      "metadata": {
        "colab": {
          "base_uri": "https://localhost:8080/",
          "height": 78
        },
        "id": "eJlKpgyNRbFq",
        "outputId": "84d88792-13ab-4bdc-dc0a-60b88019123e"
      },
      "execution_count": 31,
      "outputs": [
        {
          "output_type": "display_data",
          "data": {
            "text/plain": [
              "<IPython.core.display.Math object>"
            ],
            "text/latex": "$\\displaystyle 0 \\times2 = 0$"
          },
          "metadata": {}
        },
        {
          "output_type": "display_data",
          "data": {
            "text/plain": [
              "<IPython.core.display.Math object>"
            ],
            "text/latex": "$\\displaystyle 1 \\times2 = 1$"
          },
          "metadata": {}
        },
        {
          "output_type": "display_data",
          "data": {
            "text/plain": [
              "<IPython.core.display.Math object>"
            ],
            "text/latex": "$\\displaystyle 2 \\times2 = 4$"
          },
          "metadata": {}
        }
      ]
    },
    {
      "cell_type": "code",
      "source": [
        "a = 10\n",
        "b = 20\n",
        "\n",
        "result = 2*a <= b\n",
        "\n",
        "print(result)"
      ],
      "metadata": {
        "colab": {
          "base_uri": "https://localhost:8080/"
        },
        "id": "hqRZlPLYRnLK",
        "outputId": "e235ec9f-6a73-4b4f-ec34-115dd1490c57"
      },
      "execution_count": 32,
      "outputs": [
        {
          "output_type": "stream",
          "name": "stdout",
          "text": [
            "True\n"
          ]
        }
      ]
    },
    {
      "cell_type": "code",
      "source": [
        "if a+b*2 > 40:\n",
        "  print(str(a+b*2) + ' is greater than ' + str(40) + '. Time to celebrate!')"
      ],
      "metadata": {
        "colab": {
          "base_uri": "https://localhost:8080/"
        },
        "id": "RNi0bLApSb_K",
        "outputId": "30ce252d-33b2-4b8a-db48-93beb612b173"
      },
      "execution_count": 33,
      "outputs": [
        {
          "output_type": "stream",
          "name": "stdout",
          "text": [
            "50 is greater than 40. Time to celebrate!\n"
          ]
        }
      ]
    },
    {
      "cell_type": "code",
      "source": [
        "var = int(input('Input a number ! '))\n",
        "print(var)"
      ],
      "metadata": {
        "colab": {
          "base_uri": "https://localhost:8080/"
        },
        "id": "xaFnuak6Sobm",
        "outputId": "4031a45d-3a6c-4dc6-fe14-e7fca160105a"
      },
      "execution_count": 34,
      "outputs": [
        {
          "output_type": "stream",
          "name": "stdout",
          "text": [
            "Input a number ! 23\n",
            "23\n"
          ]
        }
      ]
    },
    {
      "cell_type": "code",
      "source": [
        "4/10"
      ],
      "metadata": {
        "colab": {
          "base_uri": "https://localhost:8080/"
        },
        "id": "nBE1XENRS0A0",
        "outputId": "c6b7d436-9660-4e21-ad8a-e6f5d4d828fd"
      },
      "execution_count": 35,
      "outputs": [
        {
          "output_type": "execute_result",
          "data": {
            "text/plain": [
              "0.4"
            ]
          },
          "metadata": {},
          "execution_count": 35
        }
      ]
    },
    {
      "cell_type": "code",
      "source": [
        "w = float(input('Input a number:  '))\n",
        "z = float(input('Input another number: '))\n",
        "\n",
        "print('The sum of %g and %g is %g' % (w, z, w+z))"
      ],
      "metadata": {
        "colab": {
          "base_uri": "https://localhost:8080/"
        },
        "id": "Uy5qN3XMTISN",
        "outputId": "a4dbca68-16bf-4ecc-b5f1-db62b3342257"
      },
      "execution_count": 36,
      "outputs": [
        {
          "output_type": "stream",
          "name": "stdout",
          "text": [
            "Input a number:  4.8\n",
            "Input another number: 5.2\n",
            "The sum of 4.8 and 5.2 is 10\n"
          ]
        }
      ]
    },
    {
      "cell_type": "code",
      "source": [
        "display(Math('\\\\frac{9}{3} = ' + str(int(9/3))))"
      ],
      "metadata": {
        "colab": {
          "base_uri": "https://localhost:8080/",
          "height": 51
        },
        "id": "681c0UilTtM_",
        "outputId": "184c4572-1af9-4f98-f874-8bb027cfc4a9"
      },
      "execution_count": 38,
      "outputs": [
        {
          "output_type": "display_data",
          "data": {
            "text/plain": [
              "<IPython.core.display.Math object>"
            ],
            "text/latex": "$\\displaystyle \\frac{9}{3} = 3$"
          },
          "metadata": {}
        }
      ]
    },
    {
      "cell_type": "code",
      "source": [
        "display(Math('\\\\frac{9}{3} = %g' % (9/3)))"
      ],
      "metadata": {
        "colab": {
          "base_uri": "https://localhost:8080/",
          "height": 51
        },
        "id": "JBQIFs5qT30-",
        "outputId": "94ef56d7-7ed6-4c8b-bb76-87c3afd32b60"
      },
      "execution_count": 40,
      "outputs": [
        {
          "output_type": "display_data",
          "data": {
            "text/plain": [
              "<IPython.core.display.Math object>"
            ],
            "text/latex": "$\\displaystyle \\frac{9}{3} = 3$"
          },
          "metadata": {}
        }
      ]
    },
    {
      "cell_type": "code",
      "source": [
        "t = 1\n",
        "while t < 11:\n",
        "  print(t)\n",
        "  t += 1"
      ],
      "metadata": {
        "colab": {
          "base_uri": "https://localhost:8080/"
        },
        "id": "Lg3olj_kUFZ4",
        "outputId": "ac507152-0138-4f03-eaa2-fad399e871fd"
      },
      "execution_count": 41,
      "outputs": [
        {
          "output_type": "stream",
          "name": "stdout",
          "text": [
            "1\n",
            "2\n",
            "3\n",
            "4\n",
            "5\n",
            "6\n",
            "7\n",
            "8\n",
            "9\n",
            "10\n"
          ]
        }
      ]
    },
    {
      "cell_type": "markdown",
      "source": [
        "**Introduction to Sympy Part 1**"
      ],
      "metadata": {
        "id": "EgkB715VXuUP"
      }
    },
    {
      "cell_type": "code",
      "source": [
        "import sympy as sym\n",
        "import numpy as np\n",
        "from IPython.display import display\n",
        "sym.init_printing()\n",
        "x, y = sym.symbols(\"x, y\")\n",
        "x, y"
      ],
      "metadata": {
        "colab": {
          "base_uri": "https://localhost:8080/",
          "height": 39
        },
        "id": "IVLSwB2cUN1K",
        "outputId": "0787a3b7-8d0b-4d82-d686-0191ef34bd1f"
      },
      "execution_count": 63,
      "outputs": [
        {
          "output_type": "execute_result",
          "data": {
            "text/plain": [
              "(x, y)"
            ],
            "text/latex": "$\\displaystyle \\left( x, \\  y\\right)$"
          },
          "metadata": {},
          "execution_count": 63
        }
      ]
    },
    {
      "cell_type": "code",
      "source": [
        "y + 4"
      ],
      "metadata": {
        "colab": {
          "base_uri": "https://localhost:8080/",
          "height": 39
        },
        "id": "V596yVb0ZNki",
        "outputId": "f7102001-232e-451d-8fe5-08fd4ec44e44"
      },
      "execution_count": 64,
      "outputs": [
        {
          "output_type": "execute_result",
          "data": {
            "text/plain": [
              "y + 4"
            ],
            "text/latex": "$\\displaystyle y + 4$"
          },
          "metadata": {},
          "execution_count": 64
        }
      ]
    },
    {
      "cell_type": "code",
      "source": [
        "display(x**y)\n",
        "display(x/y)"
      ],
      "metadata": {
        "colab": {
          "base_uri": "https://localhost:8080/",
          "height": 73
        },
        "id": "dqly562AZdrc",
        "outputId": "462bb4b5-c3ae-4ddb-ae69-73830aa560ce"
      },
      "execution_count": 65,
      "outputs": [
        {
          "output_type": "display_data",
          "data": {
            "text/plain": [
              " y\n",
              "x "
            ],
            "text/latex": "$\\displaystyle x^{y}$"
          },
          "metadata": {}
        },
        {
          "output_type": "display_data",
          "data": {
            "text/plain": [
              "x\n",
              "─\n",
              "y"
            ],
            "text/latex": "$\\displaystyle \\frac{x}{y}$"
          },
          "metadata": {}
        }
      ]
    },
    {
      "cell_type": "code",
      "source": [
        "display(np.sqrt(2))\n",
        "display(sym.sqrt(2))"
      ],
      "metadata": {
        "colab": {
          "base_uri": "https://localhost:8080/",
          "height": 59
        },
        "id": "F6tMej6IZ6Uj",
        "outputId": "8060b46b-5e92-4b8a-ee81-56b888352bfa"
      },
      "execution_count": 67,
      "outputs": [
        {
          "output_type": "display_data",
          "data": {
            "text/plain": [
              "np.float64(1.4142135623730951)"
            ],
            "text/latex": "$\\displaystyle 1.4142135623731$"
          },
          "metadata": {}
        },
        {
          "output_type": "display_data",
          "data": {
            "text/plain": [
              "√2"
            ],
            "text/latex": "$\\displaystyle \\sqrt{2}$"
          },
          "metadata": {}
        }
      ]
    },
    {
      "cell_type": "markdown",
      "source": [
        "**Exercise**"
      ],
      "metadata": {
        "id": "ICQw8uSPbiWu"
      }
    },
    {
      "cell_type": "code",
      "source": [
        "# 1\n",
        "display(y*x**2)\n",
        "\n",
        "# 2\n",
        "display(sym.sqrt(4)*x)\n",
        "\n",
        "# 3\n",
        "display(sym.sqrt(x)*sym.sqrt(x))"
      ],
      "metadata": {
        "colab": {
          "base_uri": "https://localhost:8080/",
          "height": 83
        },
        "id": "14luVnNjbUbp",
        "outputId": "6ab9852d-9142-4822-fb7f-3016000864be"
      },
      "execution_count": 76,
      "outputs": [
        {
          "output_type": "display_data",
          "data": {
            "text/plain": [
              " 2  \n",
              "x ⋅y"
            ],
            "text/latex": "$\\displaystyle x^{2} y$"
          },
          "metadata": {}
        },
        {
          "output_type": "display_data",
          "data": {
            "text/plain": [
              "2⋅x"
            ],
            "text/latex": "$\\displaystyle 2 x$"
          },
          "metadata": {}
        },
        {
          "output_type": "display_data",
          "data": {
            "text/plain": [
              "x"
            ],
            "text/latex": "$\\displaystyle x$"
          },
          "metadata": {}
        }
      ]
    },
    {
      "cell_type": "markdown",
      "source": [
        "**Introduction to Latex**"
      ],
      "metadata": {
        "id": "7omIT4qQfIBJ"
      }
    },
    {
      "cell_type": "code",
      "source": [
        "from IPython.display import Math, display\n",
        "\n",
        "display(Math('4 + 3 = 7'))"
      ],
      "metadata": {
        "colab": {
          "base_uri": "https://localhost:8080/",
          "height": 37
        },
        "id": "LU3ZG_zZbqDs",
        "outputId": "0fa31f9f-04a5-4871-8162-da323d07efb6"
      },
      "execution_count": 79,
      "outputs": [
        {
          "output_type": "display_data",
          "data": {
            "text/plain": [
              "<IPython.core.display.Math object>"
            ],
            "text/latex": "$\\displaystyle 4 + 3 = 7$"
          },
          "metadata": {}
        }
      ]
    },
    {
      "cell_type": "code",
      "source": [
        "display(Math('\\\\sigma = \\\\mu \\\\times \\\\sqrt{5}'))"
      ],
      "metadata": {
        "colab": {
          "base_uri": "https://localhost:8080/",
          "height": 40
        },
        "id": "Xmyx3MOdgXEJ",
        "outputId": "c7cd7f0c-296d-427e-d81c-20484eb168f7"
      },
      "execution_count": 81,
      "outputs": [
        {
          "output_type": "display_data",
          "data": {
            "text/plain": [
              "<IPython.core.display.Math object>"
            ],
            "text/latex": "$\\displaystyle \\sigma = \\mu \\times \\sqrt{5}$"
          },
          "metadata": {}
        }
      ]
    },
    {
      "cell_type": "code",
      "source": [
        "display(Math('x_m'))\n",
        "display(Math('x^m'))\n",
        "display(Math('x_mm'))\n",
        "display(Math('x_{mm}'))\n",
        "display(Math('x_m_m'))\n",
        "display(Math('x_{mm} + y^nk'))\n",
        "display(Math('x_{mm} + y^{nk}'))\n",
        "display(Math('\\\\sqrt{x+y-z} \\\\times \\\\sigma + \\\\mu'))\n",
        "display(Math('\\\\frac{1+x}{2v-s^{t+4r}}'))"
      ],
      "metadata": {
        "colab": {
          "base_uri": "https://localhost:8080/",
          "height": 223
        },
        "id": "ogINngQMhPKy",
        "outputId": "3d6131f5-56b8-4bc4-c4b5-686b392bc2ae"
      },
      "execution_count": 92,
      "outputs": [
        {
          "output_type": "display_data",
          "data": {
            "text/plain": [
              "<IPython.core.display.Math object>"
            ],
            "text/latex": "$\\displaystyle x_m$"
          },
          "metadata": {}
        },
        {
          "output_type": "display_data",
          "data": {
            "text/plain": [
              "<IPython.core.display.Math object>"
            ],
            "text/latex": "$\\displaystyle x^m$"
          },
          "metadata": {}
        },
        {
          "output_type": "display_data",
          "data": {
            "text/plain": [
              "<IPython.core.display.Math object>"
            ],
            "text/latex": "$\\displaystyle x_mm$"
          },
          "metadata": {}
        },
        {
          "output_type": "display_data",
          "data": {
            "text/plain": [
              "<IPython.core.display.Math object>"
            ],
            "text/latex": "$\\displaystyle x_{mm}$"
          },
          "metadata": {}
        },
        {
          "output_type": "display_data",
          "data": {
            "text/plain": [
              "<IPython.core.display.Math object>"
            ],
            "text/latex": "$\\displaystyle x_m_m$"
          },
          "metadata": {}
        },
        {
          "output_type": "display_data",
          "data": {
            "text/plain": [
              "<IPython.core.display.Math object>"
            ],
            "text/latex": "$\\displaystyle x_{mm} + y^nk$"
          },
          "metadata": {}
        },
        {
          "output_type": "display_data",
          "data": {
            "text/plain": [
              "<IPython.core.display.Math object>"
            ],
            "text/latex": "$\\displaystyle x_{mm} + y^{nk}$"
          },
          "metadata": {}
        },
        {
          "output_type": "display_data",
          "data": {
            "text/plain": [
              "<IPython.core.display.Math object>"
            ],
            "text/latex": "$\\displaystyle \\sqrt{x+y-z} \\times \\sigma + \\mu$"
          },
          "metadata": {}
        },
        {
          "output_type": "display_data",
          "data": {
            "text/plain": [
              "<IPython.core.display.Math object>"
            ],
            "text/latex": "$\\displaystyle \\frac{1+x}{2v-s^{t+4r}}$"
          },
          "metadata": {}
        }
      ]
    },
    {
      "cell_type": "markdown",
      "source": [
        "#Heading 1"
      ],
      "metadata": {
        "id": "kuUe9rD8kqm4"
      }
    },
    {
      "cell_type": "markdown",
      "source": [
        "##Heading 2"
      ],
      "metadata": {
        "id": "ebFYCDvAksTI"
      }
    },
    {
      "cell_type": "markdown",
      "source": [
        "###Heading 3"
      ],
      "metadata": {
        "id": "qYgJcd2ykwPS"
      }
    },
    {
      "cell_type": "markdown",
      "source": [
        "# This is a markdown cell\n",
        "\n",
        "This cell is not for running actual python code\n",
        "\n",
        "$$\\frac{1+x}{2v-s^{t+45}}$$\n",
        "\n",
        "\n",
        "$\\frac{1+x}{2v-s^{t+45}}$"
      ],
      "metadata": {
        "id": "Wk54rgMZlMNW"
      }
    },
    {
      "cell_type": "markdown",
      "source": [
        "# **Latex Exercises**\n",
        "\n",
        "1) $4x + 5y -8z = 17$\n",
        "\n",
        "2) $\\sin(2\\pi f t + \\theta)$\n",
        "\n",
        "3) $e = mc^2$\n",
        "\n",
        "4) $\\frac{4+5x^2}{(1+x)(1-x)}$"
      ],
      "metadata": {
        "id": "2NsahLb1l5-k"
      }
    },
    {
      "cell_type": "code",
      "source": [
        "#1\n",
        "\n",
        "display(Math('\\\\text{1) } 4x + 5y - 8z = 17'))\n",
        "\n",
        "#2\n",
        "\n",
        "display(Math('\\\\text{2) } \\\\sin(2\\\\pi f t + \\\\theta)'))\n",
        "\n",
        "#3\n",
        "\n",
        "display(Math('\\\\text{3) } e = mc^2'))\n",
        "\n",
        "#4\n",
        "\n",
        "display(Math('\\\\text{4) } \\\\frac{4+5x^2}{(1+x)(1-x)}'))"
      ],
      "metadata": {
        "colab": {
          "base_uri": "https://localhost:8080/",
          "height": 124
        },
        "id": "XAsGvZRbiyrK",
        "outputId": "58f8885e-dc3c-41b6-dd65-e003c991865a"
      },
      "execution_count": 97,
      "outputs": [
        {
          "output_type": "display_data",
          "data": {
            "text/plain": [
              "<IPython.core.display.Math object>"
            ],
            "text/latex": "$\\displaystyle \\text{1) } 4x + 5y - 8z = 17$"
          },
          "metadata": {}
        },
        {
          "output_type": "display_data",
          "data": {
            "text/plain": [
              "<IPython.core.display.Math object>"
            ],
            "text/latex": "$\\displaystyle \\text{2) } \\sin(2\\pi f t + \\theta)$"
          },
          "metadata": {}
        },
        {
          "output_type": "display_data",
          "data": {
            "text/plain": [
              "<IPython.core.display.Math object>"
            ],
            "text/latex": "$\\displaystyle \\text{3) } e = mc^2$"
          },
          "metadata": {}
        },
        {
          "output_type": "display_data",
          "data": {
            "text/plain": [
              "<IPython.core.display.Math object>"
            ],
            "text/latex": "$\\displaystyle \\text{4) } \\frac{4+5x^2}{(1+x)(1-x)}$"
          },
          "metadata": {}
        }
      ]
    },
    {
      "cell_type": "code",
      "source": [],
      "metadata": {
        "id": "W5fQPz8fm22w"
      },
      "execution_count": null,
      "outputs": []
    }
  ]
}