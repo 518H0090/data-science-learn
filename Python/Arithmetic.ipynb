{
  "nbformat": 4,
  "nbformat_minor": 0,
  "metadata": {
    "colab": {
      "provenance": []
    },
    "kernelspec": {
      "name": "python3",
      "display_name": "Python 3"
    },
    "language_info": {
      "name": "python"
    }
  },
  "cells": [
    {
      "cell_type": "markdown",
      "source": [
        "# **Add, Sub, Mul, Div**"
      ],
      "metadata": {
        "id": "eWwlRXAJ828x"
      }
    },
    {
      "cell_type": "code",
      "execution_count": null,
      "metadata": {
        "id": "6NaaIKicrOk4",
        "colab": {
          "base_uri": "https://localhost:8080/"
        },
        "outputId": "c82e66b0-97ac-4494-8822-1db3edcb6f37"
      },
      "outputs": [
        {
          "output_type": "execute_result",
          "data": {
            "text/plain": [
              "9"
            ]
          },
          "metadata": {},
          "execution_count": 150
        }
      ],
      "source": [
        "4 + 5"
      ]
    },
    {
      "cell_type": "code",
      "source": [
        "4 + 1 + 5"
      ],
      "metadata": {
        "colab": {
          "base_uri": "https://localhost:8080/"
        },
        "id": "1XWtH_XV6jo9",
        "outputId": "7a84f0d8-c609-413a-e7e2-b48b4b6e6dab"
      },
      "execution_count": null,
      "outputs": [
        {
          "output_type": "execute_result",
          "data": {
            "text/plain": [
              "10"
            ]
          },
          "metadata": {},
          "execution_count": 151
        }
      ]
    },
    {
      "cell_type": "code",
      "source": [
        "5 + 3"
      ],
      "metadata": {
        "colab": {
          "base_uri": "https://localhost:8080/"
        },
        "id": "9XNcAqtc6uea",
        "outputId": "80793987-e345-45d9-fd26-e900ebb62dd4"
      },
      "execution_count": null,
      "outputs": [
        {
          "output_type": "execute_result",
          "data": {
            "text/plain": [
              "8"
            ]
          },
          "metadata": {},
          "execution_count": 152
        }
      ]
    },
    {
      "cell_type": "code",
      "source": [
        "3 * 3"
      ],
      "metadata": {
        "colab": {
          "base_uri": "https://localhost:8080/"
        },
        "id": "p4_GHBHD6vaC",
        "outputId": "0e246977-6ead-456f-dbf3-5b1b7fa74dd6"
      },
      "execution_count": null,
      "outputs": [
        {
          "output_type": "execute_result",
          "data": {
            "text/plain": [
              "9"
            ]
          },
          "metadata": {},
          "execution_count": 153
        }
      ]
    },
    {
      "cell_type": "code",
      "source": [
        "3 * 3 + 1 - 5"
      ],
      "metadata": {
        "colab": {
          "base_uri": "https://localhost:8080/"
        },
        "id": "Rjm4G9vu6-7d",
        "outputId": "c4d46f58-987f-4c22-a7b4-44ff57bb857b"
      },
      "execution_count": null,
      "outputs": [
        {
          "output_type": "execute_result",
          "data": {
            "text/plain": [
              "5"
            ]
          },
          "metadata": {},
          "execution_count": 154
        }
      ]
    },
    {
      "cell_type": "code",
      "source": [
        "3 / 4"
      ],
      "metadata": {
        "colab": {
          "base_uri": "https://localhost:8080/"
        },
        "id": "TGUsGUcH7c-r",
        "outputId": "bea83a06-29d1-4837-d8f1-e753e1e8c7a6"
      },
      "execution_count": null,
      "outputs": [
        {
          "output_type": "execute_result",
          "data": {
            "text/plain": [
              "0.75"
            ]
          },
          "metadata": {},
          "execution_count": 155
        }
      ]
    },
    {
      "cell_type": "code",
      "source": [
        "1 + 3 / 4"
      ],
      "metadata": {
        "colab": {
          "base_uri": "https://localhost:8080/"
        },
        "id": "d4Df94yI7lPS",
        "outputId": "1b9b34b1-6a36-4a89-d9f2-285df667636b"
      },
      "execution_count": null,
      "outputs": [
        {
          "output_type": "execute_result",
          "data": {
            "text/plain": [
              "1.75"
            ]
          },
          "metadata": {},
          "execution_count": 156
        }
      ]
    },
    {
      "cell_type": "code",
      "source": [
        "(1+3)/4"
      ],
      "metadata": {
        "colab": {
          "base_uri": "https://localhost:8080/"
        },
        "id": "5dOYEug4715E",
        "outputId": "f3f58e8c-d3e7-4e30-a201-59500b35ff27"
      },
      "execution_count": null,
      "outputs": [
        {
          "output_type": "execute_result",
          "data": {
            "text/plain": [
              "1.0"
            ]
          },
          "metadata": {},
          "execution_count": 157
        }
      ]
    },
    {
      "cell_type": "markdown",
      "source": [
        "**Exercise**"
      ],
      "metadata": {
        "id": "OV4sArk-8GOd"
      }
    },
    {
      "cell_type": "code",
      "source": [
        "# 1\n",
        "\n",
        "5 - ((2 / 4) * (3 / 5))"
      ],
      "metadata": {
        "colab": {
          "base_uri": "https://localhost:8080/"
        },
        "id": "7iIMeQrH8BBi",
        "outputId": "5bc2805a-1bca-4f85-c831-84f940d0d6f9"
      },
      "execution_count": null,
      "outputs": [
        {
          "output_type": "execute_result",
          "data": {
            "text/plain": [
              "4.7"
            ]
          },
          "metadata": {},
          "execution_count": 158
        }
      ]
    },
    {
      "cell_type": "code",
      "source": [
        "# 2\n",
        "\n",
        "(4 - 5) / (3 + 5 * 6)"
      ],
      "metadata": {
        "colab": {
          "base_uri": "https://localhost:8080/"
        },
        "id": "qCJbqXeY8Ur3",
        "outputId": "1c230793-0b0e-4148-981f-4e4452e45668"
      },
      "execution_count": null,
      "outputs": [
        {
          "output_type": "execute_result",
          "data": {
            "text/plain": [
              "-0.030303030303030304"
            ]
          },
          "metadata": {},
          "execution_count": 159
        }
      ]
    },
    {
      "cell_type": "markdown",
      "source": [
        "**Variable**"
      ],
      "metadata": {
        "id": "XFKk8MhD9BBo"
      }
    },
    {
      "cell_type": "code",
      "source": [
        "x = 7\n",
        "x"
      ],
      "metadata": {
        "colab": {
          "base_uri": "https://localhost:8080/"
        },
        "id": "mDawL_Ci8Zct",
        "outputId": "a3ff39ba-a9f4-440d-9e6e-860bc17f5fcd"
      },
      "execution_count": null,
      "outputs": [
        {
          "output_type": "execute_result",
          "data": {
            "text/plain": [
              "7"
            ]
          },
          "metadata": {},
          "execution_count": 160
        }
      ]
    },
    {
      "cell_type": "code",
      "source": [
        "x - 2"
      ],
      "metadata": {
        "colab": {
          "base_uri": "https://localhost:8080/"
        },
        "id": "aZBG4dcD9lTe",
        "outputId": "28560e0f-e12f-4f3b-a76f-475b7517de7e"
      },
      "execution_count": null,
      "outputs": [
        {
          "output_type": "execute_result",
          "data": {
            "text/plain": [
              "5"
            ]
          },
          "metadata": {},
          "execution_count": 161
        }
      ]
    },
    {
      "cell_type": "code",
      "source": [
        "x = 10\n",
        "x"
      ],
      "metadata": {
        "colab": {
          "base_uri": "https://localhost:8080/"
        },
        "id": "pACjlLFL9oql",
        "outputId": "34fe60f2-6059-41af-99ce-61020371f563"
      },
      "execution_count": null,
      "outputs": [
        {
          "output_type": "execute_result",
          "data": {
            "text/plain": [
              "10"
            ]
          },
          "metadata": {},
          "execution_count": 162
        }
      ]
    },
    {
      "cell_type": "code",
      "source": [
        "x -= 2 * 5\n",
        "x"
      ],
      "metadata": {
        "colab": {
          "base_uri": "https://localhost:8080/"
        },
        "id": "I6k_-nKS9tEG",
        "outputId": "39249ac8-94df-4b17-955b-e40a621a37ca"
      },
      "execution_count": null,
      "outputs": [
        {
          "output_type": "execute_result",
          "data": {
            "text/plain": [
              "0"
            ]
          },
          "metadata": {},
          "execution_count": 163
        }
      ]
    },
    {
      "cell_type": "code",
      "source": [
        "x = 10\n",
        "y = 20\n",
        "z = 31\n",
        "\n",
        "x + y * z"
      ],
      "metadata": {
        "colab": {
          "base_uri": "https://localhost:8080/"
        },
        "id": "25c6upwM9zQu",
        "outputId": "780f7f94-c023-4b86-e20d-70a0d91e1c52"
      },
      "execution_count": null,
      "outputs": [
        {
          "output_type": "execute_result",
          "data": {
            "text/plain": [
              "630"
            ]
          },
          "metadata": {},
          "execution_count": 164
        }
      ]
    },
    {
      "cell_type": "code",
      "source": [
        "mike = 10\n",
        "spike = 34\n",
        "mike + spike"
      ],
      "metadata": {
        "colab": {
          "base_uri": "https://localhost:8080/"
        },
        "id": "T3Pvv46vB72I",
        "outputId": "eb6e7507-d4ab-4ef5-9fc8-79ebbb4ba96a"
      },
      "execution_count": null,
      "outputs": [
        {
          "output_type": "execute_result",
          "data": {
            "text/plain": [
              "44"
            ]
          },
          "metadata": {},
          "execution_count": 165
        }
      ]
    },
    {
      "cell_type": "markdown",
      "source": [
        "**Exercises**"
      ],
      "metadata": {
        "id": "EuHmoWdkCt9f"
      }
    },
    {
      "cell_type": "code",
      "source": [
        "x = 7\n",
        "y = -2\n",
        "z = 5\n",
        "\n",
        "result = 3*x * (4 + y)\n",
        "print(result)\n",
        "\n",
        "result = - y - ((x + 3) / z)\n",
        "print(result)"
      ],
      "metadata": {
        "colab": {
          "base_uri": "https://localhost:8080/"
        },
        "id": "kNyYZOHVCAeS",
        "outputId": "65489b9b-d416-4a28-c796-e9976b035cf4"
      },
      "execution_count": null,
      "outputs": [
        {
          "output_type": "stream",
          "name": "stdout",
          "text": [
            "42\n",
            "0.0\n"
          ]
        }
      ]
    },
    {
      "cell_type": "markdown",
      "source": [
        "**Printing out equation - Latex With Python**"
      ],
      "metadata": {
        "id": "TmnkkQJRsUnm"
      }
    },
    {
      "cell_type": "code",
      "source": [
        "from IPython.display import display, Math\n",
        "\n",
        "display( '4 + 3 = 7')\n",
        "display('4 + 3 = ' + str(4+3))"
      ],
      "metadata": {
        "id": "4SJdHo6cC-lD",
        "colab": {
          "base_uri": "https://localhost:8080/",
          "height": 54
        },
        "outputId": "26619f3d-ba77-4e4b-d895-c50cc9eb95cd"
      },
      "execution_count": null,
      "outputs": [
        {
          "output_type": "display_data",
          "data": {
            "text/plain": [
              "'4 + 3 = 7'"
            ],
            "application/vnd.google.colaboratory.intrinsic+json": {
              "type": "string"
            }
          },
          "metadata": {}
        },
        {
          "output_type": "display_data",
          "data": {
            "text/plain": [
              "'4 + 3 = 7'"
            ],
            "application/vnd.google.colaboratory.intrinsic+json": {
              "type": "string"
            }
          },
          "metadata": {}
        }
      ]
    },
    {
      "cell_type": "code",
      "source": [
        "display(Math('4+3=7'))"
      ],
      "metadata": {
        "colab": {
          "base_uri": "https://localhost:8080/",
          "height": 37
        },
        "id": "nsHjcK4tsqjE",
        "outputId": "8fdea91e-f0f6-4024-bd77-d92c586adb92"
      },
      "execution_count": null,
      "outputs": [
        {
          "output_type": "display_data",
          "data": {
            "text/plain": [
              "<IPython.core.display.Math object>"
            ],
            "text/latex": "$\\displaystyle 4+3=7$"
          },
          "metadata": {}
        }
      ]
    },
    {
      "cell_type": "code",
      "source": [
        "x = 4\n",
        "y = 5\n",
        "\n",
        "display(Math(f'{x} + {y} = {x + y}'))"
      ],
      "metadata": {
        "colab": {
          "base_uri": "https://localhost:8080/",
          "height": 37
        },
        "id": "nqe9N3azu4lZ",
        "outputId": "cfab4cd6-3ba6-45b9-bfc2-bf58b54d26eb"
      },
      "execution_count": null,
      "outputs": [
        {
          "output_type": "display_data",
          "data": {
            "text/plain": [
              "<IPython.core.display.Math object>"
            ],
            "text/latex": "$\\displaystyle 4 + 5 = 9$"
          },
          "metadata": {}
        }
      ]
    },
    {
      "cell_type": "code",
      "source": [
        "display(Math(f'{x} + {y} = {x + y}'))\n",
        "display(Math('%g + %g = %g' % (x, y, x + y)))"
      ],
      "metadata": {
        "colab": {
          "base_uri": "https://localhost:8080/",
          "height": 58
        },
        "id": "gKaP3EuQvc-L",
        "outputId": "71ed4963-3a00-4b75-e74d-4a4d93d3ec74"
      },
      "execution_count": null,
      "outputs": [
        {
          "output_type": "display_data",
          "data": {
            "text/plain": [
              "<IPython.core.display.Math object>"
            ],
            "text/latex": "$\\displaystyle 4 + 5 = 9$"
          },
          "metadata": {}
        },
        {
          "output_type": "display_data",
          "data": {
            "text/plain": [
              "<IPython.core.display.Math object>"
            ],
            "text/latex": "$\\displaystyle 4 + 5 = 9$"
          },
          "metadata": {}
        }
      ]
    },
    {
      "cell_type": "code",
      "source": [
        "display(Math('4/5 = .8'))\n",
        "display(Math('\\\\frac{4}{5}'))"
      ],
      "metadata": {
        "colab": {
          "base_uri": "https://localhost:8080/",
          "height": 71
        },
        "id": "4_0qQzmawQy_",
        "outputId": "01ebce77-825b-47df-8a52-6a96ff4f4da3"
      },
      "execution_count": null,
      "outputs": [
        {
          "output_type": "display_data",
          "data": {
            "text/plain": [
              "<IPython.core.display.Math object>"
            ],
            "text/latex": "$\\displaystyle 4/5 = .8$"
          },
          "metadata": {}
        },
        {
          "output_type": "display_data",
          "data": {
            "text/plain": [
              "<IPython.core.display.Math object>"
            ],
            "text/latex": "$\\displaystyle \\frac{4}{5}$"
          },
          "metadata": {}
        }
      ]
    },
    {
      "cell_type": "code",
      "source": [
        "x = 3.4\n",
        "y = 17\n",
        "\n",
        "display(Math('%g \\\\times %g = %g' % (x, y, x*y)))"
      ],
      "metadata": {
        "colab": {
          "base_uri": "https://localhost:8080/",
          "height": 37
        },
        "id": "u2VtgXGJxO_b",
        "outputId": "ef14cad0-cd5a-4596-bed6-e2ff4127b1f5"
      },
      "execution_count": null,
      "outputs": [
        {
          "output_type": "display_data",
          "data": {
            "text/plain": [
              "<IPython.core.display.Math object>"
            ],
            "text/latex": "$\\displaystyle 3.4 \\times 17 = 57.8$"
          },
          "metadata": {}
        }
      ]
    },
    {
      "cell_type": "markdown",
      "source": [
        "**Exercise**"
      ],
      "metadata": {
        "id": "t4sMhA8ezq7w"
      }
    },
    {
      "cell_type": "code",
      "source": [
        "x = 7\n",
        "y = -2\n",
        "z = 5\n",
        "\n",
        "display(Math('3x(4+y)=%g' % (3*x*(4+y))))\n",
        "display(Math('3 \\\\times %g(4+%g)=%g' % (x, y, 3*x*(4+y))))\n",
        "display(Math('-y-\\\\frac{7+3}{5}=%g' % (-y-((x+3)/z))))\n",
        "display(Math('-%g-\\\\frac{%g+3}{%g}=%g' % (y, x, z, -y-((x+3)/z))))"
      ],
      "metadata": {
        "colab": {
          "base_uri": "https://localhost:8080/",
          "height": 127
        },
        "id": "AFr0rGUnzORr",
        "outputId": "cdf20709-c77c-47ef-c82a-e64454132c4d"
      },
      "execution_count": null,
      "outputs": [
        {
          "output_type": "display_data",
          "data": {
            "text/plain": [
              "<IPython.core.display.Math object>"
            ],
            "text/latex": "$\\displaystyle 3x(4+y)=42$"
          },
          "metadata": {}
        },
        {
          "output_type": "display_data",
          "data": {
            "text/plain": [
              "<IPython.core.display.Math object>"
            ],
            "text/latex": "$\\displaystyle 3 \\times 7(4+-2)=42$"
          },
          "metadata": {}
        },
        {
          "output_type": "display_data",
          "data": {
            "text/plain": [
              "<IPython.core.display.Math object>"
            ],
            "text/latex": "$\\displaystyle -y-\\frac{7+3}{5}=0$"
          },
          "metadata": {}
        },
        {
          "output_type": "display_data",
          "data": {
            "text/plain": [
              "<IPython.core.display.Math object>"
            ],
            "text/latex": "$\\displaystyle --2-\\frac{7+3}{5}=0$"
          },
          "metadata": {}
        }
      ]
    },
    {
      "cell_type": "code",
      "source": [
        "from IPython.display import display, Math\n",
        "\n",
        "x = 4\n",
        "y = -2\n",
        "z = 3\n",
        "\n",
        "display(Math('x + y - z = %g' %(x+y-z)))\n",
        "display(Math('x \\\\times y + z = %g' %(x*y+z)))\n",
        "display(Math('\\\\frac{x+y}{z}=%g'%((x+y)/z)))\n",
        "display(Math('x^2 + y^2 - z^2=%g' % (x**2 + y**2 - z**2)))\n",
        "display(Math('(x-y)(y-z)(z-x)=%g' % ((x-y)*(y-z)*(z-x))))\n",
        "display(Math('\\\\frac{x^2-y^2}{z}=%g' % ((x**2-y**2)/z)))\n",
        "display(Math('x(y+z)-yz=%g' % (x*(y+z)-y*z) ))\n",
        "display(Math('\\\\frac{xyz}{x+y+z}=%g' %((x*y*z)/(x+y+z))))\n",
        "display(Math('(x+y)^2 - z^2=%g' % ((x+y)**2 - z**2)))\n",
        "display(Math('\\\\frac{x-y}{z+1}=%g' %((x-y)/(z+1))))"
      ],
      "metadata": {
        "colab": {
          "base_uri": "https://localhost:8080/",
          "height": 283
        },
        "id": "RLQjultT3l5q",
        "outputId": "4fabc4a7-352c-41eb-b9c0-d8921041fde6"
      },
      "execution_count": null,
      "outputs": [
        {
          "output_type": "display_data",
          "data": {
            "text/plain": [
              "<IPython.core.display.Math object>"
            ],
            "text/latex": "$\\displaystyle x + y - z = -1$"
          },
          "metadata": {}
        },
        {
          "output_type": "display_data",
          "data": {
            "text/plain": [
              "<IPython.core.display.Math object>"
            ],
            "text/latex": "$\\displaystyle x \\times y + z = -5$"
          },
          "metadata": {}
        },
        {
          "output_type": "display_data",
          "data": {
            "text/plain": [
              "<IPython.core.display.Math object>"
            ],
            "text/latex": "$\\displaystyle \\frac{x+y}{z}=0.666667$"
          },
          "metadata": {}
        },
        {
          "output_type": "display_data",
          "data": {
            "text/plain": [
              "<IPython.core.display.Math object>"
            ],
            "text/latex": "$\\displaystyle x^2 + y^2 - z^2=11$"
          },
          "metadata": {}
        },
        {
          "output_type": "display_data",
          "data": {
            "text/plain": [
              "<IPython.core.display.Math object>"
            ],
            "text/latex": "$\\displaystyle (x-y)(y-z)(z-x)=30$"
          },
          "metadata": {}
        },
        {
          "output_type": "display_data",
          "data": {
            "text/plain": [
              "<IPython.core.display.Math object>"
            ],
            "text/latex": "$\\displaystyle \\frac{x^2-y^2}{z}=4$"
          },
          "metadata": {}
        },
        {
          "output_type": "display_data",
          "data": {
            "text/plain": [
              "<IPython.core.display.Math object>"
            ],
            "text/latex": "$\\displaystyle x(y+z)-yz=10$"
          },
          "metadata": {}
        },
        {
          "output_type": "display_data",
          "data": {
            "text/plain": [
              "<IPython.core.display.Math object>"
            ],
            "text/latex": "$\\displaystyle \\frac{xyz}{x+y+z}=-4.8$"
          },
          "metadata": {}
        },
        {
          "output_type": "display_data",
          "data": {
            "text/plain": [
              "<IPython.core.display.Math object>"
            ],
            "text/latex": "$\\displaystyle (x+y)^2 - z^2=-5$"
          },
          "metadata": {}
        },
        {
          "output_type": "display_data",
          "data": {
            "text/plain": [
              "<IPython.core.display.Math object>"
            ],
            "text/latex": "$\\displaystyle \\frac{x-y}{z+1}=1.5$"
          },
          "metadata": {}
        }
      ]
    },
    {
      "cell_type": "markdown",
      "source": [
        "**Comment**"
      ],
      "metadata": {
        "id": "m8sGrXAV_uFS"
      }
    },
    {
      "cell_type": "code",
      "source": [
        "x = 5\n",
        "# x = 10\n",
        "display('when we use # x = 10 this mean program does not execute it')\n",
        "\n",
        "\"\"\"\n",
        "How about this\n",
        "Multiple\n",
        "Bla Bla\n",
        "\"\"\""
      ],
      "metadata": {
        "colab": {
          "base_uri": "https://localhost:8080/",
          "height": 54
        },
        "id": "tLAh94G-_VIC",
        "outputId": "81498feb-ef15-47f2-f156-496805506c44"
      },
      "execution_count": null,
      "outputs": [
        {
          "output_type": "display_data",
          "data": {
            "text/plain": [
              "'when we use # x = 10 this mean program does not execute it'"
            ],
            "application/vnd.google.colaboratory.intrinsic+json": {
              "type": "string"
            }
          },
          "metadata": {}
        },
        {
          "output_type": "execute_result",
          "data": {
            "text/plain": [
              "'\\nHow about this\\nMultiple \\nBla Bla\\n'"
            ],
            "application/vnd.google.colaboratory.intrinsic+json": {
              "type": "string"
            }
          },
          "metadata": {},
          "execution_count": 175
        }
      ]
    },
    {
      "cell_type": "markdown",
      "source": [
        "**Exponents - Power**"
      ],
      "metadata": {
        "id": "2Q2o0hNTABN-"
      }
    },
    {
      "cell_type": "code",
      "source": [
        "display(Math('3^2 = 3\\\\times3'))\n",
        "display(Math('3^4 = 3\\\\times3\\\\times3\\\\times3'))\n",
        "display(Math('3^2\\\\times3^4=3^{2+4}'))"
      ],
      "metadata": {
        "colab": {
          "base_uri": "https://localhost:8080/",
          "height": 78
        },
        "id": "7Q11ob-7_7XO",
        "outputId": "59975119-781e-4101-a3d1-a72b96161823"
      },
      "execution_count": null,
      "outputs": [
        {
          "output_type": "display_data",
          "data": {
            "text/plain": [
              "<IPython.core.display.Math object>"
            ],
            "text/latex": "$\\displaystyle 3^2 = 3\\times3$"
          },
          "metadata": {}
        },
        {
          "output_type": "display_data",
          "data": {
            "text/plain": [
              "<IPython.core.display.Math object>"
            ],
            "text/latex": "$\\displaystyle 3^4 = 3\\times3\\times3\\times3$"
          },
          "metadata": {}
        },
        {
          "output_type": "display_data",
          "data": {
            "text/plain": [
              "<IPython.core.display.Math object>"
            ],
            "text/latex": "$\\displaystyle 3^2\\times3^4=3^{2+4}$"
          },
          "metadata": {}
        }
      ]
    },
    {
      "cell_type": "code",
      "source": [
        "print(3**2)\n",
        "print(3^2) # because 011 ^ 010 = 001"
      ],
      "metadata": {
        "colab": {
          "base_uri": "https://localhost:8080/"
        },
        "id": "ptQPAO7-BNii",
        "outputId": "24de2997-33a1-44ef-d186-ee6174e688f5"
      },
      "execution_count": null,
      "outputs": [
        {
          "output_type": "stream",
          "name": "stdout",
          "text": [
            "9\n",
            "1\n"
          ]
        }
      ]
    },
    {
      "cell_type": "code",
      "source": [
        "print(3**3)\n",
        "print(3*3*3)"
      ],
      "metadata": {
        "colab": {
          "base_uri": "https://localhost:8080/"
        },
        "id": "SU6nfoJBFaQJ",
        "outputId": "0c6eef4c-22be-4a16-e8e1-a2ad32d4d64a"
      },
      "execution_count": null,
      "outputs": [
        {
          "output_type": "stream",
          "name": "stdout",
          "text": [
            "27\n",
            "27\n"
          ]
        }
      ]
    },
    {
      "cell_type": "code",
      "source": [
        "print(3**2 * 3**4)\n",
        "print(3 ** 6)\n",
        "print(3 **2+4)\n",
        "print(3 **(2+4))\n",
        "\n",
        "display(Math('3^2\\\\times 3^4 = 3^{2+4}'))"
      ],
      "metadata": {
        "colab": {
          "base_uri": "https://localhost:8080/",
          "height": 107
        },
        "id": "A6W0E9pyGs-z",
        "outputId": "0897aa62-b876-4e7d-a16f-402e0445cd0d"
      },
      "execution_count": null,
      "outputs": [
        {
          "output_type": "stream",
          "name": "stdout",
          "text": [
            "729\n",
            "729\n",
            "13\n",
            "729\n"
          ]
        },
        {
          "output_type": "display_data",
          "data": {
            "text/plain": [
              "<IPython.core.display.Math object>"
            ],
            "text/latex": "$\\displaystyle 3^2\\times 3^4 = 3^{2+4}$"
          },
          "metadata": {}
        }
      ]
    },
    {
      "cell_type": "markdown",
      "source": [
        "**Exercise**"
      ],
      "metadata": {
        "id": "lAbglvw3NM8c"
      }
    },
    {
      "cell_type": "code",
      "source": [
        "x = 5\n",
        "y = 5.1\n",
        "\n",
        "# 1\n",
        "display(Math('x^\\\\frac{3}{4}\\\\times4^y=%g' % (x**(3/4)*4**y)))\n",
        "# 2\n",
        "display(Math('\\\\frac{3^3}{x^y}=%g' % ((3**3)/(x**y))))\n",
        "# 3\n",
        "display(Math('10^{x-4}=%g' % (10**(x-4))))"
      ],
      "metadata": {
        "colab": {
          "base_uri": "https://localhost:8080/",
          "height": 98
        },
        "id": "I5tlKpAjGyrW",
        "outputId": "927b2c5a-ee6a-448f-ef4e-1bc64204eb8d"
      },
      "execution_count": null,
      "outputs": [
        {
          "output_type": "display_data",
          "data": {
            "text/plain": [
              "<IPython.core.display.Math object>"
            ],
            "text/latex": "$\\displaystyle x^\\frac{3}{4}\\times4^y=3933.09$"
          },
          "metadata": {}
        },
        {
          "output_type": "display_data",
          "data": {
            "text/plain": [
              "<IPython.core.display.Math object>"
            ],
            "text/latex": "$\\displaystyle \\frac{3^3}{x^y}=0.00735558$"
          },
          "metadata": {}
        },
        {
          "output_type": "display_data",
          "data": {
            "text/plain": [
              "<IPython.core.display.Math object>"
            ],
            "text/latex": "$\\displaystyle 10^{x-4}=10$"
          },
          "metadata": {}
        }
      ]
    },
    {
      "cell_type": "markdown",
      "source": [
        "**For Loops To Compute Powers**"
      ],
      "metadata": {
        "id": "IMJZ6qYPSGxi"
      }
    },
    {
      "cell_type": "code",
      "source": [
        "for x in [0, 1, 2, 3]:\n",
        "  print(x)\n",
        "\n",
        "print('-------------------------------------------------')\n",
        "\n",
        "for x in range(1, 10, 2):\n",
        "  print(x)\n",
        "\n",
        "print('-------------------------------------------------')\n",
        "\n",
        "list(range(0,3))\n",
        "\n",
        "for qwerty in range(0, 3):\n",
        "  print('This is the %gth interation.' %qwerty)\n",
        "\n",
        "print('-------------------------------------------------')\n",
        "for t in range(0,5):\n",
        "  num = t**2\n",
        "  print(num)"
      ],
      "metadata": {
        "colab": {
          "base_uri": "https://localhost:8080/"
        },
        "id": "gxuTQJFfOMK_",
        "outputId": "3d606481-8db1-4ed1-d0e2-afae3f1abd0a"
      },
      "execution_count": null,
      "outputs": [
        {
          "output_type": "stream",
          "name": "stdout",
          "text": [
            "0\n",
            "1\n",
            "2\n",
            "3\n",
            "-------------------------------------------------\n",
            "1\n",
            "3\n",
            "5\n",
            "7\n",
            "9\n",
            "-------------------------------------------------\n",
            "This is the 0th interation.\n",
            "This is the 1th interation.\n",
            "This is the 2th interation.\n",
            "-------------------------------------------------\n",
            "0\n",
            "1\n",
            "4\n",
            "9\n",
            "16\n"
          ]
        }
      ]
    },
    {
      "cell_type": "code",
      "source": [
        "base = 2\n",
        "\n",
        "for number in range(10):\n",
        "  display(Math('%g \\\\text{ to the power of } %g \\\\text{ that mean } 2^%g  \\\\text{ is }  %g' % (base, number, number, base**number)))"
      ],
      "metadata": {
        "colab": {
          "base_uri": "https://localhost:8080/",
          "height": 220
        },
        "id": "ZCRYfszWS71I",
        "outputId": "7f1705d4-16f7-4781-da80-11e7c2a13601"
      },
      "execution_count": null,
      "outputs": [
        {
          "output_type": "display_data",
          "data": {
            "text/plain": [
              "<IPython.core.display.Math object>"
            ],
            "text/latex": "$\\displaystyle 2 \\text{ to the power of } 0 \\text{ that mean } 2^0  \\text{ is }  1$"
          },
          "metadata": {}
        },
        {
          "output_type": "display_data",
          "data": {
            "text/plain": [
              "<IPython.core.display.Math object>"
            ],
            "text/latex": "$\\displaystyle 2 \\text{ to the power of } 1 \\text{ that mean } 2^1  \\text{ is }  2$"
          },
          "metadata": {}
        },
        {
          "output_type": "display_data",
          "data": {
            "text/plain": [
              "<IPython.core.display.Math object>"
            ],
            "text/latex": "$\\displaystyle 2 \\text{ to the power of } 2 \\text{ that mean } 2^2  \\text{ is }  4$"
          },
          "metadata": {}
        },
        {
          "output_type": "display_data",
          "data": {
            "text/plain": [
              "<IPython.core.display.Math object>"
            ],
            "text/latex": "$\\displaystyle 2 \\text{ to the power of } 3 \\text{ that mean } 2^3  \\text{ is }  8$"
          },
          "metadata": {}
        },
        {
          "output_type": "display_data",
          "data": {
            "text/plain": [
              "<IPython.core.display.Math object>"
            ],
            "text/latex": "$\\displaystyle 2 \\text{ to the power of } 4 \\text{ that mean } 2^4  \\text{ is }  16$"
          },
          "metadata": {}
        },
        {
          "output_type": "display_data",
          "data": {
            "text/plain": [
              "<IPython.core.display.Math object>"
            ],
            "text/latex": "$\\displaystyle 2 \\text{ to the power of } 5 \\text{ that mean } 2^5  \\text{ is }  32$"
          },
          "metadata": {}
        },
        {
          "output_type": "display_data",
          "data": {
            "text/plain": [
              "<IPython.core.display.Math object>"
            ],
            "text/latex": "$\\displaystyle 2 \\text{ to the power of } 6 \\text{ that mean } 2^6  \\text{ is }  64$"
          },
          "metadata": {}
        },
        {
          "output_type": "display_data",
          "data": {
            "text/plain": [
              "<IPython.core.display.Math object>"
            ],
            "text/latex": "$\\displaystyle 2 \\text{ to the power of } 7 \\text{ that mean } 2^7  \\text{ is }  128$"
          },
          "metadata": {}
        },
        {
          "output_type": "display_data",
          "data": {
            "text/plain": [
              "<IPython.core.display.Math object>"
            ],
            "text/latex": "$\\displaystyle 2 \\text{ to the power of } 8 \\text{ that mean } 2^8  \\text{ is }  256$"
          },
          "metadata": {}
        },
        {
          "output_type": "display_data",
          "data": {
            "text/plain": [
              "<IPython.core.display.Math object>"
            ],
            "text/latex": "$\\displaystyle 2 \\text{ to the power of } 9 \\text{ that mean } 2^9  \\text{ is }  512$"
          },
          "metadata": {}
        }
      ]
    },
    {
      "cell_type": "markdown",
      "source": [
        "# **Order Operator**\n",
        "\n",
        "1. Parentheses\n",
        "2. Exponents\n",
        "3. Multiplication\n",
        "4. Division\n",
        "5. Addition\n",
        "6. Subtraction"
      ],
      "metadata": {
        "id": "FbkIwBSAHSBu"
      }
    },
    {
      "cell_type": "markdown",
      "source": [
        "**Exercise**"
      ],
      "metadata": {
        "id": "hRm2r30wLFiG"
      }
    },
    {
      "cell_type": "code",
      "source": [
        "display(Math('Require: 4 \\\\times 5 \\\\text{ / } 7 + 3 = 2'))\n",
        "display(Math('Answer: (4 \\\\times 5) \\\\text{ / } (7 + 3) = %g' % ((4*5)/(7+3))))\n",
        "\n",
        "display(Math('Require: 9 \\\\text{ / } 3 + 6 - 1 = 0'))\n",
        "display(Math('Answer: 9 \\\\text{ / } (3 + 6) - 1 = %g' % (9/(3+6)-1)))"
      ],
      "metadata": {
        "colab": {
          "base_uri": "https://localhost:8080/",
          "height": 102
        },
        "id": "IAyoL1QQCNPG",
        "outputId": "cbf2f040-25b5-4a01-a15f-0a8d7f9ad6c0"
      },
      "execution_count": null,
      "outputs": [
        {
          "output_type": "display_data",
          "data": {
            "text/plain": [
              "<IPython.core.display.Math object>"
            ],
            "text/latex": "$\\displaystyle Require: 4 \\times 5 \\text{ / } 7 + 3 = 2$"
          },
          "metadata": {}
        },
        {
          "output_type": "display_data",
          "data": {
            "text/plain": [
              "<IPython.core.display.Math object>"
            ],
            "text/latex": "$\\displaystyle Answer: (4 \\times 5) \\text{ / } (7 + 3) = 2$"
          },
          "metadata": {}
        },
        {
          "output_type": "display_data",
          "data": {
            "text/plain": [
              "<IPython.core.display.Math object>"
            ],
            "text/latex": "$\\displaystyle Require: 9 \\text{ / } 3 + 6 - 1 = 0$"
          },
          "metadata": {}
        },
        {
          "output_type": "display_data",
          "data": {
            "text/plain": [
              "<IPython.core.display.Math object>"
            ],
            "text/latex": "$\\displaystyle Answer: 9 \\text{ / } (3 + 6) - 1 = 0$"
          },
          "metadata": {}
        }
      ]
    },
    {
      "cell_type": "markdown",
      "source": [
        "# **Testing Inequlities and Boolean data type**"
      ],
      "metadata": {
        "id": "-yY5MB1WSc-p"
      }
    },
    {
      "cell_type": "code",
      "source": [
        "b = 30 > 3*3\n",
        "print(b)\n",
        "print(type(b))\n",
        "display(4 >= 2+2)\n",
        "print(4 == 2+2)"
      ],
      "metadata": {
        "colab": {
          "base_uri": "https://localhost:8080/",
          "height": 86
        },
        "id": "TFW4LBIoLC7N",
        "outputId": "2cd1541b-bae4-4e6f-9213-3dd283bf0bf4"
      },
      "execution_count": null,
      "outputs": [
        {
          "output_type": "stream",
          "name": "stdout",
          "text": [
            "True\n",
            "<class 'bool'>\n"
          ]
        },
        {
          "output_type": "display_data",
          "data": {
            "text/plain": [
              "True"
            ]
          },
          "metadata": {}
        },
        {
          "output_type": "stream",
          "name": "stdout",
          "text": [
            "True\n"
          ]
        }
      ]
    },
    {
      "cell_type": "markdown",
      "source": [
        "**Exercise**"
      ],
      "metadata": {
        "id": "Tcjk7HItTmYV"
      }
    },
    {
      "cell_type": "code",
      "source": [
        "print('We require test with x=2, x=3, x=4')\n",
        "\n",
        "display(Math('Question 1: 4x+3 < 17-x^2'))\n",
        "display(Math('Question 2: 8x-2 \\leq -3x+42'))"
      ],
      "metadata": {
        "colab": {
          "base_uri": "https://localhost:8080/",
          "height": 77
        },
        "id": "FRdDU0YqTqGj",
        "outputId": "19837eb0-5149-4b87-a85e-4573665fcfd2"
      },
      "execution_count": null,
      "outputs": [
        {
          "output_type": "stream",
          "name": "stdout",
          "text": [
            "We require test with x=2, x=3, x=4\n"
          ]
        },
        {
          "output_type": "display_data",
          "data": {
            "text/plain": [
              "<IPython.core.display.Math object>"
            ],
            "text/latex": "$\\displaystyle Question 1: 4x+3 < 17-x^2$"
          },
          "metadata": {}
        },
        {
          "output_type": "display_data",
          "data": {
            "text/plain": [
              "<IPython.core.display.Math object>"
            ],
            "text/latex": "$\\displaystyle Question 2: 8x-2 \\leq -3x+42$"
          },
          "metadata": {}
        }
      ]
    },
    {
      "cell_type": "code",
      "source": [
        "display(Math('\\\\text{x=2}'))\n",
        "x = 2\n",
        "\n",
        "display(Math('Question 1: 4x+3 < 17-x^2 \\\\text{ => }%s' % (str((4*x+3)<(17-x**2)))))\n",
        "display(Math('Question 2: 8x-2 \\leq -3x+42 \\\\text{ => }%s' % (str((8*x-2)<=(-3*x+42)))))"
      ],
      "metadata": {
        "colab": {
          "base_uri": "https://localhost:8080/",
          "height": 80
        },
        "id": "zvIhg6fyT7WR",
        "outputId": "f8eae7f3-21aa-4bb8-9b99-6d23ac0efab1"
      },
      "execution_count": null,
      "outputs": [
        {
          "output_type": "display_data",
          "data": {
            "text/plain": [
              "<IPython.core.display.Math object>"
            ],
            "text/latex": "$\\displaystyle \\text{x=2}$"
          },
          "metadata": {}
        },
        {
          "output_type": "display_data",
          "data": {
            "text/plain": [
              "<IPython.core.display.Math object>"
            ],
            "text/latex": "$\\displaystyle Question 1: 4x+3 < 17-x^2 \\text{ => }True$"
          },
          "metadata": {}
        },
        {
          "output_type": "display_data",
          "data": {
            "text/plain": [
              "<IPython.core.display.Math object>"
            ],
            "text/latex": "$\\displaystyle Question 2: 8x-2 \\leq -3x+42 \\text{ => }True$"
          },
          "metadata": {}
        }
      ]
    },
    {
      "cell_type": "code",
      "source": [
        "display(Math('\\\\text{x=3}'))\n",
        "\n",
        "x = 3\n",
        "\n",
        "display(Math('Question 1: 4x+3 < 17-x^2 \\\\text{ => }%s' % (str((4*x+3)<(17-x**2)))))\n",
        "display(Math('Question 2: 8x-2 \\leq -3x+42 \\\\text{ => }%s' % (str((8*x-2)<=(-3*x+42)))))"
      ],
      "metadata": {
        "colab": {
          "base_uri": "https://localhost:8080/",
          "height": 80
        },
        "id": "PkrLIvFdUaRN",
        "outputId": "c6c7b1ae-fd43-4295-f232-bbabb348d6a8"
      },
      "execution_count": null,
      "outputs": [
        {
          "output_type": "display_data",
          "data": {
            "text/plain": [
              "<IPython.core.display.Math object>"
            ],
            "text/latex": "$\\displaystyle \\text{x=3}$"
          },
          "metadata": {}
        },
        {
          "output_type": "display_data",
          "data": {
            "text/plain": [
              "<IPython.core.display.Math object>"
            ],
            "text/latex": "$\\displaystyle Question 1: 4x+3 < 17-x^2 \\text{ => }False$"
          },
          "metadata": {}
        },
        {
          "output_type": "display_data",
          "data": {
            "text/plain": [
              "<IPython.core.display.Math object>"
            ],
            "text/latex": "$\\displaystyle Question 2: 8x-2 \\leq -3x+42 \\text{ => }True$"
          },
          "metadata": {}
        }
      ]
    },
    {
      "cell_type": "code",
      "source": [
        "display(Math('\\\\text{x=4}'))\n",
        "x=4\n",
        "\n",
        "display(Math('Question 1: 4x+3 < 17-x^2 \\\\text{ => }%s' % (str((4*x+3)<(17-x**2)))))\n",
        "display(Math('Question 2: 8x-2 \\leq -3x+42 \\\\text{ => }%s' % (str((8*x-2)<=(-3*x+42)))))"
      ],
      "metadata": {
        "colab": {
          "base_uri": "https://localhost:8080/",
          "height": 80
        },
        "id": "_GppqKcVUbWL",
        "outputId": "01a640de-f03e-4bcd-d12b-44a217657530"
      },
      "execution_count": null,
      "outputs": [
        {
          "output_type": "display_data",
          "data": {
            "text/plain": [
              "<IPython.core.display.Math object>"
            ],
            "text/latex": "$\\displaystyle \\text{x=4}$"
          },
          "metadata": {}
        },
        {
          "output_type": "display_data",
          "data": {
            "text/plain": [
              "<IPython.core.display.Math object>"
            ],
            "text/latex": "$\\displaystyle Question 1: 4x+3 < 17-x^2 \\text{ => }False$"
          },
          "metadata": {}
        },
        {
          "output_type": "display_data",
          "data": {
            "text/plain": [
              "<IPython.core.display.Math object>"
            ],
            "text/latex": "$\\displaystyle Question 2: 8x-2 \\leq -3x+42 \\text{ => }True$"
          },
          "metadata": {}
        }
      ]
    },
    {
      "cell_type": "markdown",
      "source": [
        "# **If Statement And Logical Operator**"
      ],
      "metadata": {
        "id": "yPNXituTZtUt"
      }
    },
    {
      "cell_type": "code",
      "source": [],
      "metadata": {
        "id": "b0ABzasEUbqz"
      },
      "execution_count": null,
      "outputs": []
    }
  ]
}